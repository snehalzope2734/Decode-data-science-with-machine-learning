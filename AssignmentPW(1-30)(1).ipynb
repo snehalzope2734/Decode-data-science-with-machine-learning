{
 "cells": [
  {
   "cell_type": "markdown",
   "id": "8f8dcb5e",
   "metadata": {},
   "source": [
    "# Question 1.1: Write the Answer to these questions."
   ]
  },
  {
   "cell_type": "markdown",
   "id": "442fe319",
   "metadata": {},
   "source": [
    "### 1. What is the difference between static and dynamic variables in Python"
   ]
  },
  {
   "cell_type": "markdown",
   "id": "d2f93a49",
   "metadata": {},
   "source": [
    "Static Variables\n",
    "\n",
    "Definition: Static variables, also known as class variables, are shared across all instances of a \n",
    "\n",
    "class. They belong to the class itself rather than any particular object instance.\n",
    "\n",
    "Scope: They are defined inside the class but outside any instance methods.\n",
    "\n",
    "Usage: They are used when you want to maintain a single shared state across all instances of a class.\n",
    "\n",
    "Dynamic Variables\n",
    "\n",
    "Definition: Dynamic variables, also known as instance variables, are specific to each instance of a \n",
    "\n",
    "class. Each object has its own copy of an instance variable.\n",
    "\n",
    "Scope: They are defined inside the constructor (usually __init__ method) or any other instance methods.\n",
    "\n",
    "Usage: They are used to maintain unique state information for each object instance."
   ]
  },
  {
   "cell_type": "code",
   "execution_count": 2,
   "id": "577dfa20",
   "metadata": {},
   "outputs": [
    {
     "name": "stdout",
     "output_type": "stream",
     "text": [
      "I am static\n",
      "I am dynamic 1\n",
      "I am dynamic 2\n",
      "I am still static\n",
      "I am still static\n"
     ]
    }
   ],
   "source": [
    "class MyClass:\n",
    "    static_var = \"I am static\"\n",
    "\n",
    "    def __init__(self, dynamic_var):\n",
    "        self.dynamic_var = dynamic_var\n",
    "\n",
    "print(MyClass.static_var)  \n",
    "\n",
    "obj1 = MyClass(\"I am dynamic 1\")\n",
    "obj2 = MyClass(\"I am dynamic 2\")\n",
    "\n",
    "print(obj1.dynamic_var)  \n",
    "print(obj2.dynamic_var)  \n",
    "\n",
    "MyClass.static_var = \"I am still static\"\n",
    "\n",
    "print(obj1.static_var) \n",
    "print(obj2.static_var)  \n"
   ]
  },
  {
   "cell_type": "markdown",
   "id": "c0e9101e",
   "metadata": {},
   "source": [
    "### 2. Explain the purpose of \"pop\",\"popitem\",\"clear()\" in a dictionary with suitable examples."
   ]
  },
  {
   "cell_type": "markdown",
   "id": "d546bb6b",
   "metadata": {},
   "source": [
    "i. pop() : Removes and returns the value for the specified key. If the key is not found, a default value can be provided, otherwise, it raises a KeyError.\n",
    "Syntax: dict.pop(key[, default])"
   ]
  },
  {
   "cell_type": "code",
   "execution_count": 5,
   "id": "fafc7055",
   "metadata": {},
   "outputs": [
    {
     "name": "stdout",
     "output_type": "stream",
     "text": [
      "2\n",
      "{'a': 1, 'c': 3}\n",
      "Not Found\n"
     ]
    }
   ],
   "source": [
    "my_dict = {'a': 1, 'b': 2, 'c': 3}\n",
    "value = my_dict.pop('b')\n",
    "print(value)       \n",
    "print(my_dict)    \n",
    "\n",
    "value = my_dict.pop('d', 'Not Found')\n",
    "print(value)       "
   ]
  },
  {
   "cell_type": "code",
   "execution_count": null,
   "id": "4a2026a0",
   "metadata": {},
   "outputs": [],
   "source": [
    "ii. popitem() : Removes and returns the last inserted key-value pair as a tuple. Since Python 3.7, dictionaries maintain insertion order, so popitem() removes the last item inserted.\n",
    "Syntax: dict.popitem()"
   ]
  },
  {
   "cell_type": "code",
   "execution_count": 6,
   "id": "8c90f383",
   "metadata": {},
   "outputs": [
    {
     "name": "stdout",
     "output_type": "stream",
     "text": [
      "('c', 3)\n",
      "{'a': 1, 'b': 2}\n"
     ]
    }
   ],
   "source": [
    "my_dict = {'a': 1, 'b': 2, 'c': 3}\n",
    "item = my_dict.popitem()\n",
    "print(item)        \n",
    "print(my_dict)   "
   ]
  },
  {
   "cell_type": "code",
   "execution_count": null,
   "id": "5d511978",
   "metadata": {},
   "outputs": [],
   "source": [
    "clear() : Removes all items from the dictionary, resulting in an empty dictionary.\n",
    "Syntax: dict.clear()"
   ]
  },
  {
   "cell_type": "code",
   "execution_count": 7,
   "id": "bb24a016",
   "metadata": {},
   "outputs": [
    {
     "name": "stdout",
     "output_type": "stream",
     "text": [
      "{}\n"
     ]
    }
   ],
   "source": [
    "my_dict = {'a': 1, 'b': 2, 'c': 3}\n",
    "my_dict.clear()\n",
    "print(my_dict)     "
   ]
  },
  {
   "cell_type": "markdown",
   "id": "5b6bfdeb",
   "metadata": {},
   "source": [
    "### 3. What do you mean by FrozenSet? Explain it with suitable examples."
   ]
  },
  {
   "cell_type": "markdown",
   "id": "7739148c",
   "metadata": {},
   "source": [
    "A frozenset in Python is an immutable version of a set. Unlike sets, which are mutable and can be modified (elements can be added or removed), frozensets are immutable and cannot be changed after their creation. This immutability makes frozensets hashable, meaning they can be used as keys in dictionaries or elements in other sets.\n",
    "\n",
    "Characteristics of a FrozenSet\n",
    "\n",
    "Immutable: Once created, the elements of a frozenset cannot be changed.\n",
    "Hashable: Can be used as keys in dictionaries and elements of other sets.\n",
    "Unordered: Elements do not have a specific order.\n",
    "Unique Elements: Like sets, frozensets do not allow duplicate elements."
   ]
  },
  {
   "cell_type": "code",
   "execution_count": 8,
   "id": "a6e17600",
   "metadata": {},
   "outputs": [
    {
     "name": "stdout",
     "output_type": "stream",
     "text": [
      "frozenset({1, 2, 3, 4, 5})\n",
      "frozenset({8, 9, 6, 7})\n"
     ]
    }
   ],
   "source": [
    "fset = frozenset([1, 2, 3, 4, 5])\n",
    "print(fset)  \n",
    "\n",
    "fset_from_set = frozenset({6, 7, 8, 9})\n",
    "print(fset_from_set) "
   ]
  },
  {
   "cell_type": "markdown",
   "id": "3681f862",
   "metadata": {},
   "source": [
    "### 4. Differentiate between mutable and immutable data types in Python and give examples of mutable and immutable data types."
   ]
  },
  {
   "cell_type": "markdown",
   "id": "04970218",
   "metadata": {},
   "source": [
    "Modification Capability:\n",
    "Mutable: Can be modified after creation.\n",
    "Immutable: Cannot be modified after creation; any change creates a new object.\n",
    "\n",
    "Examples:\n",
    "Mutable: List, Dictionary, Set, Bytearray.\n",
    "Immutable: String, Tuple, Integer, Float, Boolean, Frozenset, Bytes.\n",
    "\n",
    "Memory Management:\n",
    "Mutable: May remain in the same memory location or change it.\n",
    "Immutable: Always results in a new memory location for any modification.\n",
    "\n",
    "Performance:\n",
    "Mutable: Generally faster for updates since modifications happen in place.\n",
    "Immutable: Can be slower for updates as it involves creating new objects.\n",
    "\n",
    "Use Cases:\n",
    "Mutable: Suitable for scenarios where changes are expected, like data structures that grow or shrink dynamically.\n",
    "Immutable: Ideal for constant values and hashable collections used as keys in dictionaries or elements in sets.\n",
    "\n",
    "Examples of Use:\n",
    "Mutable: Lists for collecting items, dictionaries for mapping key-value pairs, sets for unique elements.\n",
    "Immutable: Strings for text data, tuples for fixed collections of items, integers and floats for numeric constants."
   ]
  },
  {
   "cell_type": "code",
   "execution_count": 10,
   "id": "1cb7a922",
   "metadata": {},
   "outputs": [
    {
     "name": "stdout",
     "output_type": "stream",
     "text": [
      "[4, 2, 3]\n",
      "{'a': 3, 'b': 2}\n",
      "{1, 2, 3, 4}\n"
     ]
    }
   ],
   "source": [
    "# Mutable\n",
    "my_list = [1, 2, 3]\n",
    "my_list[0] = 4  \n",
    "print(my_list)  \n",
    "\n",
    "my_dict = {'a': 1, 'b': 2}\n",
    "my_dict['a'] = 3  \n",
    "print(my_dict) \n",
    "\n",
    "my_set = {1, 2, 3}\n",
    "my_set.add(4)  \n",
    "print(my_set) "
   ]
  },
  {
   "cell_type": "code",
   "execution_count": 11,
   "id": "1c213170",
   "metadata": {},
   "outputs": [
    {
     "name": "stdout",
     "output_type": "stream",
     "text": [
      "hello\n",
      "jello\n",
      "(1, 2, 3)\n",
      "(1, 2, 3, 4)\n",
      "5\n",
      "6\n"
     ]
    }
   ],
   "source": [
    "# immutable\n",
    "my_string = \"hello\"\n",
    "new_string = my_string.replace('h', 'j') \n",
    "print(my_string)  \n",
    "print(new_string) \n",
    "\n",
    "my_tuple = (1, 2, 3)\n",
    "new_tuple = my_tuple + (4,)  \n",
    "print(my_tuple)  \n",
    "print(new_tuple) \n",
    "\n",
    "my_int = 5\n",
    "new_int = my_int + 1  \n",
    "print(my_int)  \n",
    "print(new_int)  "
   ]
  },
  {
   "cell_type": "markdown",
   "id": "1d69d92f",
   "metadata": {},
   "source": [
    "### 5. What is __init__?Explain with an example."
   ]
  },
  {
   "cell_type": "markdown",
   "id": "7c271895",
   "metadata": {},
   "source": [
    "The __init__ method in Python is a special method called a constructor. It is automatically called when a new instance of a class is created. The primary purpose of __init__ is to initialize the instance's attributes with values provided as arguments."
   ]
  },
  {
   "cell_type": "code",
   "execution_count": 13,
   "id": "c7fd4af3",
   "metadata": {},
   "outputs": [
    {
     "name": "stdout",
     "output_type": "stream",
     "text": [
      "Alice\n",
      "25\n",
      "Hello, my name is Alice and I am 30 years old.\n",
      "Hello, my name is Bob and I am 25 years old.\n"
     ]
    }
   ],
   "source": [
    "class Person:\n",
    "    def __init__(self, name, age):\n",
    "        self.name = name  \n",
    "        self.age = age  \n",
    "\n",
    "    def greet(self):\n",
    "        print(f\"Hello, my name is {self.name} and I am {self.age} years old.\")\n",
    "\n",
    "person1 = Person(\"Alice\", 30)\n",
    "person2 = Person(\"Bob\", 25)\n",
    "\n",
    "print(person1.name) \n",
    "print(person2.age)   \n",
    "\n",
    "person1.greet()  \n",
    "person2.greet()  "
   ]
  },
  {
   "cell_type": "markdown",
   "id": "c072ea6b",
   "metadata": {},
   "source": [
    "### 6. What is docstring in Python?Explain with an example."
   ]
  },
  {
   "cell_type": "markdown",
   "id": "b34db133",
   "metadata": {},
   "source": [
    "A docstring in Python is a special string literal that is used to document modules, classes, methods, and functions. It provides a convenient way to describe the purpose and usage of the code, and is accessible via the __doc__ attribute of the object it documents."
   ]
  },
  {
   "cell_type": "code",
   "execution_count": 15,
   "id": "92fb4f68",
   "metadata": {},
   "outputs": [
    {
     "name": "stdout",
     "output_type": "stream",
     "text": [
      "\n",
      "    This class represents a simple calculator with basic arithmetic operations.\n",
      "    \n",
      "\n",
      "        Adds two numbers.\n",
      "\n",
      "        Parameters:\n",
      "        x (int or float): The first number.\n",
      "        y (int or float): The second number.\n",
      "\n",
      "        Returns:\n",
      "        int or float: The sum of x and y.\n",
      "        \n"
     ]
    }
   ],
   "source": [
    "\"\"\"\n",
    "This module demonstrates the use of docstrings.\n",
    "It contains a class and a function with their own docstrings.\n",
    "\"\"\"\n",
    "\n",
    "class Calculator:\n",
    "    \"\"\"\n",
    "    This class represents a simple calculator with basic arithmetic operations.\n",
    "    \"\"\"\n",
    "\n",
    "    def __init__(self):\n",
    "        \"\"\"\n",
    "        Initializes a new instance of the Calculator class.\n",
    "        \"\"\"\n",
    "        pass\n",
    "\n",
    "    def add(self, x, y):\n",
    "        \"\"\"\n",
    "        Adds two numbers.\n",
    "\n",
    "        Parameters:\n",
    "        x (int or float): The first number.\n",
    "        y (int or float): The second number.\n",
    "\n",
    "        Returns:\n",
    "        int or float: The sum of x and y.\n",
    "        \"\"\"\n",
    "        return x + y\n",
    "\n",
    "    def subtract(self, x, y):\n",
    "        \"\"\"\n",
    "        Subtracts the second number from the first number.\n",
    "\n",
    "        Parameters:\n",
    "        x (int or float): The first number.\n",
    "        y (int or float): The second number.\n",
    "\n",
    "        Returns:\n",
    "        int or float: The difference between x and y.\n",
    "        \"\"\"\n",
    "        return x - y\n",
    "\n",
    "print(Calculator.__doc__) \n",
    "print(Calculator.add.__doc__)  "
   ]
  },
  {
   "cell_type": "markdown",
   "id": "88f37913",
   "metadata": {},
   "source": [
    "### 7. What are unit tests in Python"
   ]
  },
  {
   "cell_type": "markdown",
   "id": "7eb02154",
   "metadata": {},
   "source": [
    "Unit tests in Python are a type of testing used to verify that individual units or components of a program (such as functions or methods) work as expected. They are designed to test the smallest testable parts of an application in isolation from the rest of the codebase. The purpose of unit testing is to ensure that each unit of code performs correctly, making it easier to identify and fix bugs early in the development process."
   ]
  },
  {
   "cell_type": "markdown",
   "id": "5879b718",
   "metadata": {},
   "source": [
    "### 8. What is break, continue and pass in Python\n"
   ]
  },
  {
   "cell_type": "code",
   "execution_count": 16,
   "id": "ed05afc5",
   "metadata": {},
   "outputs": [
    {
     "name": "stdout",
     "output_type": "stream",
     "text": [
      "0\n",
      "1\n",
      "2\n",
      "3\n",
      "4\n"
     ]
    }
   ],
   "source": [
    "for i in range(10):\n",
    "    if i == 5:\n",
    "        break  \n",
    "    print(i)"
   ]
  },
  {
   "cell_type": "markdown",
   "id": "49cfae57",
   "metadata": {},
   "source": [
    "continue\n",
    "Purpose: Skips the remaining code inside the current loop iteration and proceeds to the next iteration. It does not exit the loop.\n",
    "Usage: Useful to skip certain iterations of the loop based on a condition."
   ]
  },
  {
   "cell_type": "code",
   "execution_count": 17,
   "id": "a3852ecd",
   "metadata": {},
   "outputs": [
    {
     "name": "stdout",
     "output_type": "stream",
     "text": [
      "1\n",
      "3\n",
      "5\n",
      "7\n",
      "9\n"
     ]
    }
   ],
   "source": [
    "for i in range(10):\n",
    "    if i % 2 == 0:\n",
    "        continue  \n",
    "    print(i)"
   ]
  },
  {
   "cell_type": "markdown",
   "id": "d619b327",
   "metadata": {},
   "source": [
    "pass\n",
    "Purpose: Acts as a placeholder that does nothing. It is used when a statement is required syntactically but you have no code to execute.\n",
    "Usage: Useful in situations where code is required syntactically but you are not ready to implement the functionality."
   ]
  },
  {
   "cell_type": "code",
   "execution_count": 18,
   "id": "15060229",
   "metadata": {},
   "outputs": [
    {
     "name": "stdout",
     "output_type": "stream",
     "text": [
      "1\n",
      "3\n",
      "5\n",
      "7\n",
      "9\n"
     ]
    }
   ],
   "source": [
    "for i in range(10):\n",
    "    if i % 2 == 0:\n",
    "        pass \n",
    "    else:\n",
    "        print(i)"
   ]
  },
  {
   "cell_type": "markdown",
   "id": "f7cf129c",
   "metadata": {},
   "source": [
    "### 9. What is the use of self in Python?"
   ]
  },
  {
   "cell_type": "markdown",
   "id": "038b358b",
   "metadata": {},
   "source": [
    "Instance Reference: self refers to the current instance of the class, allowing access to its attributes and methods.\n",
    "\n",
    "Mandatory in Method Definitions: It must be the first parameter in method definitions within a class, though it is not passed explicitly when the method is called.\n",
    "\n",
    "Conventional Name: While self is the conventional name, it is not a keyword in Python; you can technically use any name, but using self is a widely accepted convention."
   ]
  },
  {
   "cell_type": "code",
   "execution_count": 20,
   "id": "f41c4305",
   "metadata": {},
   "outputs": [
    {
     "name": "stdout",
     "output_type": "stream",
     "text": [
      "Hello, my name is Alice and I am 30 years old.\n",
      "Hello, my name is Alice and I am 31 years old.\n"
     ]
    }
   ],
   "source": [
    "class Person:\n",
    "    def __init__(self, name, age):\n",
    "        self.name = name\n",
    "        self.age = age \n",
    "\n",
    "    def greet(self):\n",
    "        print(f\"Hello, my name is {self.name} and I am {self.age} years old.\")\n",
    "\n",
    "    def have_birthday(self):\n",
    "        self.age += 1\n",
    "\n",
    "person = Person(\"Alice\", 30)\n",
    "\n",
    "person.greet()       \n",
    "person.have_birthday()  \n",
    "person.greet()           "
   ]
  },
  {
   "cell_type": "markdown",
   "id": "4a084767",
   "metadata": {},
   "source": [
    "### 10. What are global, protected and private attributes in Python"
   ]
  },
  {
   "cell_type": "markdown",
   "id": "15d028db",
   "metadata": {},
   "source": [
    "Global Attributes\n",
    "Definition: Global attributes are variables that are defined outside of any class or function and are accessible from anywhere within the module.\n",
    "\n",
    "Usage: They are used for data that needs to be shared across multiple classes or functions within the same module.Global Attributes\n",
    "Definition: Global attributes are variables that are defined outside of any class or function and are accessible from anywhere within the module.\n",
    "\n",
    "Usage: They are used for data that needs to be shared across multiple classes or functions within the same module."
   ]
  },
  {
   "cell_type": "code",
   "execution_count": 21,
   "id": "ee78b51b",
   "metadata": {},
   "outputs": [
    {
     "name": "stdout",
     "output_type": "stream",
     "text": [
      "I am global\n",
      "I am global\n"
     ]
    }
   ],
   "source": [
    "global_variable = \"I am global\"\n",
    "\n",
    "def display_global():\n",
    "    print(global_variable)\n",
    "\n",
    "class MyClass:\n",
    "    def show_global(self):\n",
    "        print(global_variable)\n",
    "\n",
    "display_global() \n",
    "obj = MyClass()\n",
    "obj.show_global()  "
   ]
  },
  {
   "cell_type": "markdown",
   "id": "e675d07d",
   "metadata": {},
   "source": [
    "Protected Attributes\n",
    "\n",
    "Definition: Protected attributes are meant to be accessed only within the class and its subclasses. They are not intended to be accessed from outside the class hierarchy.\n",
    "\n",
    "Naming Convention: They are indicated by a single leading underscore (_).\n",
    "\n",
    "Usage: To suggest that these attributes should not be accessed directly from outside the class, but it is not enforced by the language."
   ]
  },
  {
   "cell_type": "code",
   "execution_count": 22,
   "id": "29e853ec",
   "metadata": {},
   "outputs": [
    {
     "name": "stdout",
     "output_type": "stream",
     "text": [
      "I am protected\n",
      "I am protected\n"
     ]
    }
   ],
   "source": [
    "class Parent:\n",
    "    def __init__(self):\n",
    "        self._protected_attr = \"I am protected\"\n",
    "\n",
    "class Child(Parent):\n",
    "    def show_protected(self):\n",
    "        print(self._protected_attr)\n",
    "\n",
    "obj = Child()\n",
    "obj.show_protected()  \n",
    "\n",
    "print(obj._protected_attr) "
   ]
  },
  {
   "cell_type": "markdown",
   "id": "add9f366",
   "metadata": {},
   "source": [
    "Private Attributes\n",
    "\n",
    "Definition: Private attributes are meant to be accessible only within the class where they are defined. They are not accessible from outside the class or from subclasses.\n",
    "\n",
    "Naming Convention: They are indicated by a double leading underscore (__).\n",
    "\n",
    "Usage: To enforce encapsulation and restrict access to the attribute from outside the class."
   ]
  },
  {
   "cell_type": "code",
   "execution_count": 24,
   "id": "fabb8295",
   "metadata": {},
   "outputs": [
    {
     "name": "stdout",
     "output_type": "stream",
     "text": [
      "I am private\n",
      "'MyClass' object has no attribute '__private_attr'\n",
      "I am private\n"
     ]
    }
   ],
   "source": [
    "class MyClass:\n",
    "    def __init__(self):\n",
    "        self.__private_attr = \"I am private\"\n",
    "\n",
    "    def show_private(self):\n",
    "        print(self.__private_attr)\n",
    "\n",
    "obj = MyClass()\n",
    "obj.show_private() \n",
    "\n",
    "try:\n",
    "    print(obj.__private_attr)\n",
    "except AttributeError as e:\n",
    "    print(e) \n",
    "\n",
    "print(obj._MyClass__private_attr)  "
   ]
  },
  {
   "cell_type": "markdown",
   "id": "8e06b8b3",
   "metadata": {},
   "source": [
    "### 11. What are modules and packages in Python"
   ]
  },
  {
   "cell_type": "markdown",
   "id": "d58b6b91",
   "metadata": {},
   "source": [
    "Modules\n",
    "Definition: A module is a single file containing Python code. It can include functions, classes, variables, and runnable code. Modules help in organizing code into logical units.\n",
    "\n",
    "Usage:\n",
    "Code Organization: Helps in separating code into different files based on functionality.\n",
    "Reusability: Allows reuse of code across different programs or parts of a program."
   ]
  },
  {
   "cell_type": "markdown",
   "id": "ea5c1b88",
   "metadata": {},
   "source": [
    "Packages\n",
    "Definition: A package is a directory containing multiple modules and an __init__.py file. The __init__.py file can be empty but must be present to indicate that the directory is a package. Packages help in organizing related modules into a directory hierarchy.\n",
    "\n",
    "Usage:\n",
    "Hierarchical Organization: Allows grouping of related modules into a directory structure.\n",
    "Namespace Management: Helps in managing namespaces and avoiding module name conflicts."
   ]
  },
  {
   "cell_type": "markdown",
   "id": "9215ca8c",
   "metadata": {},
   "source": [
    "### 12. What are lists and tuples? What is the key difference between the two?"
   ]
  },
  {
   "cell_type": "markdown",
   "id": "3466a9f0",
   "metadata": {},
   "source": [
    "Lists\n",
    "Definition: Lists are mutable sequences in Python. They can contain items of any type and allow modification of their elements.\n",
    "\n",
    "Key Features:\n",
    "Mutable: You can change, add, or remove items after the list has been created.\n",
    "Dynamic Size: Lists can grow or shrink in size.\n",
    "Syntax: Defined using square brackets []."
   ]
  },
  {
   "cell_type": "code",
   "execution_count": 25,
   "id": "155c55d2",
   "metadata": {},
   "outputs": [
    {
     "name": "stdout",
     "output_type": "stream",
     "text": [
      "[10, 2, 3, 4.5, 6]\n"
     ]
    }
   ],
   "source": [
    "my_list = [1, 2, 3, \"hello\", 4.5]\n",
    "my_list.append(6)       \n",
    "my_list[0] = 10          \n",
    "my_list.remove(\"hello\")  \n",
    "\n",
    "print(my_list) "
   ]
  },
  {
   "cell_type": "markdown",
   "id": "f00608ff",
   "metadata": {},
   "source": [
    "Tuples\n",
    "Definition: Tuples are immutable sequences in Python. Once a tuple is created, its contents cannot be changed.\n",
    "\n",
    "Key Features:\n",
    "\n",
    "Immutable: You cannot modify, add, or remove items once the tuple has been created.\n",
    "Fixed Size: The size of a tuple is fixed once created.\n",
    "Syntax: Defined using parentheses ()."
   ]
  },
  {
   "cell_type": "code",
   "execution_count": 26,
   "id": "bdbb4182",
   "metadata": {},
   "outputs": [
    {
     "name": "stdout",
     "output_type": "stream",
     "text": [
      "(1, 2, 3, 'hello', 4.5)\n"
     ]
    }
   ],
   "source": [
    "my_tuple = (1, 2, 3, \"hello\", 4.5)\n",
    "\n",
    "print(my_tuple)        "
   ]
  },
  {
   "cell_type": "markdown",
   "id": "1128473b",
   "metadata": {},
   "source": [
    "### 13. What is an Interpreted language & dynamically typed language?Write 5 differences between them?"
   ]
  },
  {
   "cell_type": "markdown",
   "id": "7c272396",
   "metadata": {},
   "source": [
    "Interpreted Language\n",
    "\n",
    "Definition: An interpreted language is a type of programming language for which most of the instructions are executed directly by an interpreter, rather than being compiled into machine code. The interpreter reads and executes the code line-by-line or statement-by-statement.\n",
    "\n",
    "Dynamically Typed Language\n",
    "\n",
    "Definition: A dynamically typed language is one where the type of a variable is determined at runtime, rather than at compile-time. This means that you do not need to declare the type of a variable explicitly."
   ]
  },
  {
   "cell_type": "markdown",
   "id": "e7fcfc2c",
   "metadata": {},
   "source": [
    "Difference Between Interpreted and Dynamically Typed Languages\n",
    "Conceptual Focus:\n",
    "\n",
    "Interpreted Language: Focuses on how code is executed (line-by-line by an interpreter).\n",
    "Dynamically Typed Language: Focuses on how types are handled (types are determined at runtime).\n",
    "Execution:\n",
    "\n",
    "Interpreted Language: Code is executed directly by the interpreter, which can lead to slower execution compared to compiled languages.\n",
    "Dynamically Typed Language: The code execution might be interpreted or compiled, but type information is managed at runtime.\n",
    "Type Checking:\n",
    "\n",
    "Interpreted Language: Type checking may be performed by the interpreter if the language is also dynamically typed.\n",
    "Dynamically Typed Language: Type checking is always done at runtime, regardless of whether the language is interpreted or compiled.\n",
    "Error Handling:\n",
    "\n",
    "Interpreted Language: Errors are typically detected during execution, which can include syntax errors or runtime errors.\n",
    "Dynamically Typed Language: Type-related errors are detected at runtime, and other errors depend on whether the language is interpreted or compiled.\n",
    "Development and Debugging:\n",
    "\n",
    "Interpreted Language: Allows for rapid development and testing, as changes can be tested immediately without recompiling.\n",
    "Dynamically Typed Language: Provides flexibility in coding and allows for dynamic variable assignments, which can sometimes lead to runtime type errors."
   ]
  },
  {
   "cell_type": "markdown",
   "id": "6d2b50c9",
   "metadata": {},
   "source": [
    "### 14. What are Dict and List comprehensions?"
   ]
  },
  {
   "cell_type": "markdown",
   "id": "7f96d41d",
   "metadata": {},
   "source": [
    "List Comprehensions\n",
    "Definition: List comprehensions provide a way to create lists by specifying an expression and an iteration over an iterable. They can include optional conditions to filter items."
   ]
  },
  {
   "cell_type": "code",
   "execution_count": 28,
   "id": "ddac2da3",
   "metadata": {},
   "outputs": [
    {
     "name": "stdout",
     "output_type": "stream",
     "text": [
      "[0, 2, 4, 6, 8]\n"
     ]
    }
   ],
   "source": [
    "evens = [x for x in range(10) if x % 2 == 0]\n",
    "print(evens)  "
   ]
  },
  {
   "cell_type": "markdown",
   "id": "2b4e7aa3",
   "metadata": {},
   "source": [
    "Dict Comprehensions\n",
    "Definition: Dict comprehensions provide a way to create dictionaries by specifying key-value pairs in a similar way to list comprehensions. They also allow for conditions to be included."
   ]
  },
  {
   "cell_type": "code",
   "execution_count": 29,
   "id": "10851fcd",
   "metadata": {},
   "outputs": [
    {
     "name": "stdout",
     "output_type": "stream",
     "text": [
      "{0: 0, 2: 4, 4: 16, 6: 36, 8: 64}\n"
     ]
    }
   ],
   "source": [
    "even_squares_dict = {x: x**2 for x in range(10) if x % 2 == 0}\n",
    "print(even_squares_dict) "
   ]
  },
  {
   "cell_type": "markdown",
   "id": "317790c7",
   "metadata": {},
   "source": [
    "### 15. What are decorators in Python? Explain it with an example.Write down its use cases."
   ]
  },
  {
   "cell_type": "markdown",
   "id": "1b5f13fb",
   "metadata": {},
   "source": [
    "Decorators: \n",
    "Definition: A decorator is a function that takes another function (or method) as its argument, adds some functionality, and returns a new function with the additional behavior."
   ]
  },
  {
   "cell_type": "code",
   "execution_count": 30,
   "id": "3d360c27",
   "metadata": {},
   "outputs": [],
   "source": [
    "def my_decorator(func):\n",
    "    def wrapper(*args, **kwargs):\n",
    "        print(\"Something is happening before the function is called.\")\n",
    "        result = func(*args, **kwargs)\n",
    "        print(\"Something is happening after the function is called.\")\n",
    "        return result\n",
    "    return wrapper"
   ]
  },
  {
   "cell_type": "code",
   "execution_count": 31,
   "id": "3333e042",
   "metadata": {},
   "outputs": [
    {
     "name": "stdout",
     "output_type": "stream",
     "text": [
      "Something is happening before the function is called.\n",
      "Hello, Alice!\n",
      "Something is happening after the function is called.\n"
     ]
    }
   ],
   "source": [
    "@my_decorator\n",
    "def say_hello(name):\n",
    "    print(f\"Hello, {name}!\")\n",
    "\n",
    "say_hello(\"Alice\")"
   ]
  },
  {
   "cell_type": "markdown",
   "id": "cf9bce94",
   "metadata": {},
   "source": [
    "Logging:\n",
    "Purpose: To add logging functionality to functions, such as logging the execution time or parameters.\n",
    "\n",
    "Authorization:\n",
    "Purpose: To control access to certain functions based on user roles or permissions.\n",
    "\n",
    "Caching:\n",
    "Purpose: To cache results of expensive function calls and reuse them to improve performance.\n",
    "\n",
    "Validation:\n",
    "Purpose: To validate input arguments of a function before proceeding with its execution.\n",
    "\n",
    "Timing:\n",
    "Purpose: To measure and report the time taken by a function to execute."
   ]
  },
  {
   "cell_type": "markdown",
   "id": "36bc473e",
   "metadata": {},
   "source": [
    "### 16. How is memory managed in Python"
   ]
  },
  {
   "cell_type": "markdown",
   "id": "ca6cc54f",
   "metadata": {},
   "source": [
    "Memory management\n",
    "Reference Counting:\n",
    "Definition: Each object in Python has an associated reference count that keeps track of how many references point to that object.\n",
    "\n",
    "Garbage Collection\n",
    "Definition: Garbage collection is a mechanism to detect and clean up memory that is no longer in use but not yet freed due to circular references.\n",
    "\n",
    "Memory Allocation\n",
    "Private Heap Space: Python maintains an internal private heap space where all the objects and data structures are stored.\n",
    "\n",
    "Memory Management for Built-in Types\n",
    "Immutable Types: Immutable objects like integers, floats, and strings are managed differently. Python reuses small immutable objects to save memory (e.g., small integers are cached and reused).\n",
    "\n",
    "Mutable Types: Mutable objects like lists and dictionaries have different management strategies to handle resizing and reallocation."
   ]
  },
  {
   "cell_type": "code",
   "execution_count": 32,
   "id": "bd392eeb",
   "metadata": {},
   "outputs": [
    {
     "name": "stdout",
     "output_type": "stream",
     "text": [
      "3\n",
      "3\n"
     ]
    }
   ],
   "source": [
    "import sys\n",
    "\n",
    "a = 1000\n",
    "b = 1000\n",
    "print(sys.getrefcount(a))  \n",
    "\n",
    "list1 = [1, 2, 3]\n",
    "list2 = list1\n",
    "print(sys.getrefcount(list1))  "
   ]
  },
  {
   "cell_type": "markdown",
   "id": "1841644d",
   "metadata": {},
   "source": [
    "### 17. What is lambda in Python? Why is it used"
   ]
  },
  {
   "cell_type": "markdown",
   "id": "100d0486",
   "metadata": {},
   "source": [
    "Lambda functions are often used for the following reasons:\n",
    "\n",
    "Conciseness:\n",
    "They provide a way to create small, one-off functions without having to formally define them using the def keyword. This can make the code more concise and readable when the function is simple.\n",
    "\n",
    "Usage: They are used for their conciseness, particularly in functional programming scenarios, custom sorting, event handling, or wherever a simple function is needed without a formal definition."
   ]
  },
  {
   "cell_type": "code",
   "execution_count": 33,
   "id": "bf592e35",
   "metadata": {},
   "outputs": [
    {
     "name": "stdout",
     "output_type": "stream",
     "text": [
      "8\n"
     ]
    }
   ],
   "source": [
    "add = lambda x, y: x + y\n",
    "\n",
    "result = add(5, 3)\n",
    "print(result) "
   ]
  },
  {
   "cell_type": "markdown",
   "id": "903c3c4c",
   "metadata": {},
   "source": [
    "### 18. Explain split() and join() functions in Python."
   ]
  },
  {
   "cell_type": "markdown",
   "id": "458bd5f6",
   "metadata": {},
   "source": [
    "split()\n",
    "Definition: The split() method is used to divide a string into a list of substrings based on a specified delimiter or separator. By default, it splits the string by whitespace."
   ]
  },
  {
   "cell_type": "code",
   "execution_count": 35,
   "id": "a55e7a8e",
   "metadata": {},
   "outputs": [
    {
     "name": "stdout",
     "output_type": "stream",
     "text": [
      "['one', 'two', 'three four']\n"
     ]
    }
   ],
   "source": [
    "text = \"one two three four\"\n",
    "parts = text.split(' ', 2)\n",
    "print(parts)  "
   ]
  },
  {
   "cell_type": "markdown",
   "id": "099290cf",
   "metadata": {},
   "source": [
    "# join()\n",
    "Definition: The join() method is used to concatenate a list of strings into a single string with a specified separator or delimiter between each element."
   ]
  },
  {
   "cell_type": "code",
   "execution_count": 36,
   "id": "7cbfae51",
   "metadata": {},
   "outputs": [
    {
     "name": "stdout",
     "output_type": "stream",
     "text": [
      "1-2-3\n"
     ]
    }
   ],
   "source": [
    "numbers = ['1', '2', '3']\n",
    "text = '-'.join(numbers)\n",
    "print(text) "
   ]
  },
  {
   "cell_type": "markdown",
   "id": "e25bb1c6",
   "metadata": {},
   "source": [
    "### 19. What are iterators , iterable & generators in Python"
   ]
  },
  {
   "cell_type": "markdown",
   "id": "29ebdf5d",
   "metadata": {},
   "source": [
    "Iterables\n",
    "Definition: An iterable is any Python object capable of returning its members one at a time, allowing it to be iterated over in a for-loop or other iteration contexts."
   ]
  },
  {
   "cell_type": "code",
   "execution_count": 37,
   "id": "12a93a29",
   "metadata": {},
   "outputs": [
    {
     "name": "stdout",
     "output_type": "stream",
     "text": [
      "1\n",
      "2\n",
      "3\n",
      "4\n",
      "5\n"
     ]
    }
   ],
   "source": [
    "numbers = [1, 2, 3, 4, 5]\n",
    "\n",
    "for number in numbers:\n",
    "    print(number)"
   ]
  },
  {
   "cell_type": "markdown",
   "id": "f7115d30",
   "metadata": {},
   "source": [
    "Iterators\n",
    "Definition: An iterator is an object that represents a stream of data. It implements the __iter__() and __next__() methods, allowing it to iterate over its data one element at a time."
   ]
  },
  {
   "cell_type": "code",
   "execution_count": 38,
   "id": "bfca746f",
   "metadata": {},
   "outputs": [
    {
     "name": "stdout",
     "output_type": "stream",
     "text": [
      "1\n",
      "2\n",
      "3\n"
     ]
    }
   ],
   "source": [
    "numbers = [1, 2, 3]\n",
    "iterator = iter(numbers)\n",
    "\n",
    "print(next(iterator))  \n",
    "print(next(iterator))  \n",
    "print(next(iterator))  "
   ]
  },
  {
   "cell_type": "markdown",
   "id": "6fd3cb6b",
   "metadata": {},
   "source": [
    "Generators\n",
    "Definition: Generators are a special type of iterator that are defined using functions with the yield keyword. They provide a way to create iterators in a more concise manner. \n"
   ]
  },
  {
   "cell_type": "code",
   "execution_count": 41,
   "id": "2ed4f131",
   "metadata": {},
   "outputs": [
    {
     "name": "stdout",
     "output_type": "stream",
     "text": [
      "0\n",
      "1\n",
      "2\n",
      "3\n",
      "4\n"
     ]
    }
   ],
   "source": [
    "def generate_numbers(n):\n",
    "    for i in range(n):\n",
    "        yield i\n",
    "\n",
    "gen = generate_numbers(5)\n",
    "\n",
    "for number in gen:\n",
    "    print(number)"
   ]
  },
  {
   "cell_type": "markdown",
   "id": "9d629303",
   "metadata": {},
   "source": [
    "### 20. What is the difference between xrange and range in Python."
   ]
  },
  {
   "cell_type": "markdown",
   "id": "8ba5105c",
   "metadata": {},
   "source": [
    "range:\n",
    "\n",
    "Definition: Returns a list containing all the numbers in the specified range.\n",
    "Memory Usage: Generates and stores all the numbers in memory as a list, which can be inefficient for large ranges."
   ]
  },
  {
   "cell_type": "code",
   "execution_count": 42,
   "id": "87a1e543",
   "metadata": {},
   "outputs": [
    {
     "name": "stdout",
     "output_type": "stream",
     "text": [
      "range(0, 5)\n"
     ]
    }
   ],
   "source": [
    "numbers = range(5)\n",
    "print(numbers)  "
   ]
  },
  {
   "cell_type": "markdown",
   "id": "96f785c4",
   "metadata": {},
   "source": [
    "xrange:\n",
    "\n",
    "Definition: Returns an iterator that generates numbers on-the-fly as you iterate over it.\n",
    "Memory Usage: More memory-efficient as it does not store the entire sequence in memory, only generating numbers as needed."
   ]
  },
  {
   "cell_type": "code",
   "execution_count": 43,
   "id": "4f10f0db",
   "metadata": {},
   "outputs": [
    {
     "name": "stdout",
     "output_type": "stream",
     "text": [
      "range(0, 5)\n"
     ]
    }
   ],
   "source": [
    "numbers = range(5)\n",
    "print(numbers)"
   ]
  },
  {
   "cell_type": "markdown",
   "id": "e146cf2e",
   "metadata": {},
   "source": [
    "### 21. Pillars of Oops8"
   ]
  },
  {
   "cell_type": "markdown",
   "id": "3b71b4ed",
   "metadata": {},
   "source": [
    "1. Encapsulation\n",
    "Definition: Encapsulation is the concept of bundling data (attributes) and methods (functions) that operate on the data into a single unit called a class. It also involves restricting direct access to some of an object's components, which can help in protecting the internal state of the object.\n",
    "\n",
    "Benefits:\n",
    "\n",
    "Data Hiding: Keeps the internal state of an object hidden from the outside world and only exposes a controlled interface.\n",
    "Modularity: Promotes modularity by grouping related data and methods together."
   ]
  },
  {
   "cell_type": "code",
   "execution_count": 44,
   "id": "5c9aa506",
   "metadata": {},
   "outputs": [
    {
     "name": "stdout",
     "output_type": "stream",
     "text": [
      "Toyota\n"
     ]
    }
   ],
   "source": [
    "class Car:\n",
    "    def __init__(self, make, model):\n",
    "        self.__make = make  \n",
    "        self.__model = model \n",
    "\n",
    "    def get_make(self):\n",
    "        return self.__make\n",
    "\n",
    "    def set_make(self, make):\n",
    "        self.__make = make\n",
    "\n",
    "my_car = Car(\"Toyota\", \"Corolla\")\n",
    "print(my_car.get_make())  \n",
    "my_car.set_make(\"Honda\")"
   ]
  },
  {
   "cell_type": "markdown",
   "id": "871aaf62",
   "metadata": {},
   "source": [
    "2. Inheritance\n",
    "Definition: Inheritance is a mechanism by which one class (the child or subclass) inherits attributes and methods from another class (the parent or superclass). This promotes code reusability and establishes a hierarchical relationship between classes.\n",
    "\n",
    "Types:\n",
    "\n",
    "Single Inheritance: A class inherits from a single parent class.\n",
    "Multiple Inheritance: A class inherits from more than one parent class.\n",
    "Multilevel Inheritance: A class inherits from another class, which is also inherited by a third class.\n",
    "Hierarchical Inheritance: Multiple classes inherit from a single parent class."
   ]
  },
  {
   "cell_type": "code",
   "execution_count": 45,
   "id": "47821633",
   "metadata": {},
   "outputs": [
    {
     "name": "stdout",
     "output_type": "stream",
     "text": [
      "Animal speaks\n",
      "Dog barks\n"
     ]
    }
   ],
   "source": [
    "class Animal:\n",
    "    def speak(self):\n",
    "        print(\"Animal speaks\")\n",
    "\n",
    "class Dog(Animal):\n",
    "    def bark(self):\n",
    "        print(\"Dog barks\")\n",
    "\n",
    "my_dog = Dog()\n",
    "my_dog.speak()  \n",
    "my_dog.bark()  "
   ]
  },
  {
   "cell_type": "markdown",
   "id": "83e30480",
   "metadata": {},
   "source": [
    "3. Polymorphism\n",
    "Definition: Polymorphism means \"many shapes\" and refers to the ability of different objects to respond, each in its own way, to the same method call. It allows for a single interface to be used for a general class of actions, with the specific action determined by the exact nature of the situation.\n",
    "\n",
    "Types:\n",
    "\n",
    "Method Overloading: Defining multiple methods with the same name but different parameters within the same class (not natively supported in Python but can be emulated).\n",
    "Method Overriding: Subclasses providing a specific implementation of a method that is already defined in its superclass."
   ]
  },
  {
   "cell_type": "code",
   "execution_count": 46,
   "id": "736a4a10",
   "metadata": {},
   "outputs": [
    {
     "name": "stdout",
     "output_type": "stream",
     "text": [
      "Bird chirps\n",
      "Dog barks\n"
     ]
    }
   ],
   "source": [
    "class Bird:\n",
    "    def speak(self):\n",
    "        print(\"Bird chirps\")\n",
    "\n",
    "class Dog:\n",
    "    def speak(self):\n",
    "        print(\"Dog barks\")\n",
    "\n",
    "def make_it_speak(animal):\n",
    "    animal.speak()\n",
    "\n",
    "my_bird = Bird()\n",
    "my_dog = Dog()\n",
    "\n",
    "make_it_speak(my_bird) \n",
    "make_it_speak(my_dog)   "
   ]
  },
  {
   "cell_type": "markdown",
   "id": "bf06b08c",
   "metadata": {},
   "source": [
    "4. Abstraction\n",
    "Definition: Abstraction is the concept of hiding the complex implementation details and showing only the necessary features of an object. It allows focusing on what an object does rather than how it does it.\n",
    "\n",
    "Implementation:\n",
    "\n",
    "Abstract Classes: Classes that cannot be instantiated and are meant to be subclasses. They often contain one or more abstract methods that must be implemented by subclasses.\n",
    "Abstract Methods: Methods that are declared in an abstract class but contain no implementation. Subclasses must provide an implementation for these methods."
   ]
  },
  {
   "cell_type": "code",
   "execution_count": 47,
   "id": "b3222987",
   "metadata": {},
   "outputs": [
    {
     "name": "stdout",
     "output_type": "stream",
     "text": [
      "50\n"
     ]
    }
   ],
   "source": [
    "from abc import ABC, abstractmethod\n",
    "\n",
    "class Shape(ABC):\n",
    "    @abstractmethod\n",
    "    def area(self):\n",
    "        pass\n",
    "\n",
    "class Rectangle(Shape):\n",
    "    def __init__(self, width, height):\n",
    "        self.width = width\n",
    "        self.height = height\n",
    "\n",
    "    def area(self):\n",
    "        return self.width * self.height\n",
    "\n",
    "my_rectangle = Rectangle(5, 10)\n",
    "print(my_rectangle.area()) "
   ]
  },
  {
   "cell_type": "markdown",
   "id": "735c99c9",
   "metadata": {},
   "source": [
    "### 22. How will you check if a class is a child of another class"
   ]
  },
  {
   "cell_type": "markdown",
   "id": "a3bce4ce",
   "metadata": {},
   "source": [
    "issubclass() Function\n",
    "subclass: The class you want to check.\n",
    "superclass: The class you are checking against.\n",
    "Returns:\n",
    "\n",
    "True if subclass is a subclass of superclass.\n",
    "False otherwise."
   ]
  },
  {
   "cell_type": "code",
   "execution_count": 48,
   "id": "e9dbc32e",
   "metadata": {},
   "outputs": [
    {
     "name": "stdout",
     "output_type": "stream",
     "text": [
      "True\n",
      "True\n",
      "False\n"
     ]
    }
   ],
   "source": [
    "class Animal:\n",
    "    pass\n",
    "\n",
    "class Mammal(Animal):\n",
    "    pass\n",
    "\n",
    "class Dog(Mammal):\n",
    "    pass\n",
    "\n",
    "print(issubclass(Dog, Mammal))  \n",
    "print(issubclass(Dog, Animal)) \n",
    "print(issubclass(Mammal, Dog)) "
   ]
  },
  {
   "cell_type": "markdown",
   "id": "ad6a794c",
   "metadata": {},
   "source": [
    "### 23.How does inheritance work in python? Explain all types of inheritance with an example"
   ]
  },
  {
   "cell_type": "markdown",
   "id": "09d386a1",
   "metadata": {},
   "source": [
    "How Inheritance Works in Python\n",
    "Basic Concept:\n",
    "\n",
    "Parent Class (Base Class): The class from which attributes and methods are inherited.\n",
    "Child Class (Derived Class): The class that inherits from the parent class. It can extend or modify the behavior of the parent class."
   ]
  },
  {
   "cell_type": "markdown",
   "id": "e99d27d6",
   "metadata": {},
   "source": [
    "1. Single Inheritance\n",
    "Definition: A child class inherits from one parent class."
   ]
  },
  {
   "cell_type": "code",
   "execution_count": 51,
   "id": "6732a28d",
   "metadata": {},
   "outputs": [
    {
     "name": "stdout",
     "output_type": "stream",
     "text": [
      "Animal is eating\n",
      "Dog is barking\n"
     ]
    }
   ],
   "source": [
    "class Animal:\n",
    "    def eat(self):\n",
    "        print(\"Animal is eating\")\n",
    "\n",
    "class Dog(Animal):\n",
    "    def bark(self):\n",
    "        print(\"Dog is barking\")\n",
    "\n",
    "my_dog = Dog()\n",
    "my_dog.eat()  \n",
    "my_dog.bark()  "
   ]
  },
  {
   "cell_type": "markdown",
   "id": "d21003c2",
   "metadata": {},
   "source": [
    "4.Hierarchical Inheritance\n",
    "Definition: Multiple child classes inherit from a single parent class."
   ]
  },
  {
   "cell_type": "code",
   "execution_count": 52,
   "id": "7c709d74",
   "metadata": {},
   "outputs": [
    {
     "name": "stdout",
     "output_type": "stream",
     "text": [
      "Animal is eating\n",
      "Dog is barking\n",
      "Animal is eating\n",
      "Cat is meowing\n"
     ]
    }
   ],
   "source": [
    "class Animal:\n",
    "    def eat(self):\n",
    "        print(\"Animal is eating\")\n",
    "\n",
    "class Dog(Animal):\n",
    "    def bark(self):\n",
    "        print(\"Dog is barking\")\n",
    "\n",
    "class Cat(Animal):\n",
    "    def meow(self):\n",
    "        print(\"Cat is meowing\")\n",
    "\n",
    "my_dog = Dog()\n",
    "my_cat = Cat()\n",
    "my_dog.eat()  \n",
    "my_dog.bark() \n",
    "my_cat.eat()  \n",
    "my_cat.meow() "
   ]
  },
  {
   "cell_type": "code",
   "execution_count": 53,
   "id": "eb575f8a",
   "metadata": {},
   "outputs": [
    {
     "name": "stdout",
     "output_type": "stream",
     "text": [
      "Method A\n",
      "Method B\n",
      "Method C\n"
     ]
    }
   ],
   "source": [
    "class A:\n",
    "    def method_a(self):\n",
    "        print(\"Method A\")\n",
    "\n",
    "class B(A):\n",
    "    def method_b(self):\n",
    "        print(\"Method B\")\n",
    "\n",
    "class C(A):\n",
    "    def method_c(self):\n",
    "        print(\"Method C\")\n",
    "\n",
    "class D(B, C):\n",
    "    pass\n",
    "\n",
    "my_d = D()\n",
    "my_d.method_a() \n",
    "my_d.method_b() \n",
    "my_d.method_c()  "
   ]
  },
  {
   "cell_type": "markdown",
   "id": "ab5604df",
   "metadata": {},
   "source": [
    "### 24. What is encapsulation? Explain it with an example."
   ]
  },
  {
   "cell_type": "code",
   "execution_count": 54,
   "id": "e98fa95d",
   "metadata": {},
   "outputs": [
    {
     "name": "stdout",
     "output_type": "stream",
     "text": [
      "1000\n",
      "Deposited $500. New balance is $1500.\n",
      "Withdrew $200. New balance is $1300.\n",
      "1300\n"
     ]
    }
   ],
   "source": [
    "class BankAccount:\n",
    "    def __init__(self, owner, balance=0):\n",
    "        self.owner = owner \n",
    "        self.__balance = balance  \n",
    "\n",
    "    def get_balance(self):\n",
    "        return self.__balance\n",
    "\n",
    "    def deposit(self, amount):\n",
    "        if amount > 0:\n",
    "            self.__balance += amount\n",
    "            print(f\"Deposited ${amount}. New balance is ${self.__balance}.\")\n",
    "        else:\n",
    "            print(\"Deposit amount must be positive.\")\n",
    "\n",
    "    def withdraw(self, amount):\n",
    "        if 0 < amount <= self.__balance:\n",
    "            self.__balance -= amount\n",
    "            print(f\"Withdrew ${amount}. New balance is ${self.__balance}.\")\n",
    "        else:\n",
    "            print(\"Invalid withdrawal amount or insufficient funds.\")\n",
    "\n",
    "account = BankAccount(\"John Doe\", 1000)\n",
    "\n",
    "print(account.get_balance())  \n",
    "account.deposit(500)          \n",
    "account.withdraw(200)      \n",
    "\n",
    "print(account.get_balance())  "
   ]
  },
  {
   "cell_type": "markdown",
   "id": "ee1e8cb2",
   "metadata": {},
   "source": [
    "### 25.What is polymorphism? Explain it with an example."
   ]
  },
  {
   "cell_type": "code",
   "execution_count": 55,
   "id": "1376c0ef",
   "metadata": {},
   "outputs": [
    {
     "name": "stdout",
     "output_type": "stream",
     "text": [
      "Dog barks\n",
      "Cat meows\n"
     ]
    }
   ],
   "source": [
    "class Animal:\n",
    "    def speak(self):\n",
    "        print(\"Animal speaks\")\n",
    "\n",
    "class Dog(Animal):\n",
    "    def speak(self):\n",
    "        print(\"Dog barks\")\n",
    "\n",
    "class Cat(Animal):\n",
    "    def speak(self):\n",
    "        print(\"Cat meows\")\n",
    "\n",
    "def make_animal_speak(animal):\n",
    "    animal.speak()\n",
    "\n",
    "my_dog = Dog()\n",
    "my_cat = Cat()\n",
    "\n",
    "make_animal_speak(my_dog) \n",
    "make_animal_speak(my_cat) "
   ]
  },
  {
   "cell_type": "markdown",
   "id": "034d9bf9",
   "metadata": {},
   "source": [
    "### Question 1. 2. Which of the following identifier names are invalid and why? "
   ]
  },
  {
   "cell_type": "markdown",
   "id": "630311ce",
   "metadata": {},
   "source": [
    "Evaluation of Each Identifier\n",
    "a) Serial_no.\n",
    "Invalid: Ends with a period (.), which is not allowed in identifiers.\n",
    "\n",
    "b) 1st_Room\n",
    "Invalid: Starts with a digit (1), which is not allowed. Identifiers must start with a letter or an underscore.\n",
    "\n",
    "c) Hundred$\n",
    "Invalid: Contains a dollar sign ($), which is not allowed in identifiers.\n",
    "\n",
    "d) Total_Marks\n",
    "Valid: Follows all the rules for identifiers. Contains only letters, digits (not at the start), and underscores.\n",
    "\n",
    "e) total-Marks\n",
    "Invalid: Contains a hyphen (-), which is not allowed in identifiers.\n",
    "\n",
    "f) Total Marks\n",
    "Invalid: Contains a space, which is not allowed in identifiers.\n",
    "\n",
    "g) True\n",
    "Invalid: True is a reserved keyword in Python and cannot be used as an identifier.\n",
    "\n",
    "h) _Percentag\n",
    "Valid: Follows all the rules for identifiers. Starts with an underscore and contains only letters and an underscore."
   ]
  },
  {
   "cell_type": "markdown",
   "id": "5d1d0eb9",
   "metadata": {},
   "source": [
    "### Question 1.3"
   ]
  },
  {
   "cell_type": "markdown",
   "id": "85d0875d",
   "metadata": {},
   "source": [
    "name = [\"Mohan\", \"dash\", \"karam\", \"chandra\",\"gandhi\",\"Bapu\"]\n",
    "do the following operations in this list;"
   ]
  },
  {
   "cell_type": "markdown",
   "id": "36c0beb0",
   "metadata": {},
   "source": [
    "a) add an element \"freedom_fighter\" in this list at the 0th index."
   ]
  },
  {
   "cell_type": "code",
   "execution_count": 57,
   "id": "7ee2d671",
   "metadata": {},
   "outputs": [
    {
     "name": "stdout",
     "output_type": "stream",
     "text": [
      "['freedom_fighter', 'Mohan', 'dash', 'karam', 'chandra', 'gandhi', 'Bapu']\n"
     ]
    }
   ],
   "source": [
    "name = [\"Mohan\", \"dash\", \"karam\", \"chandra\", \"gandhi\", \"Bapu\"]\n",
    "name.insert(0, \"freedom_fighter\")\n",
    "print(name)"
   ]
  },
  {
   "cell_type": "code",
   "execution_count": 59,
   "id": "76acd18c",
   "metadata": {},
   "outputs": [
    {
     "name": "stdout",
     "output_type": "stream",
     "text": [
      "Object `how` not found.\n",
      "6\n"
     ]
    }
   ],
   "source": [
    "b) find the output of the following ,and explain how?\n",
    "\n",
    "name = ['freedomFighter',\"Bapuji\",\"MOhan\" \"dash\", \"karam\",\n",
    "\"chandra\",\"gandhi\"]\n",
    "length1=len((name[-len(name)+1:-1:2]))\n",
    "length2=len((name[-len(name)+1:-1]))\n",
    "print(length1+length2)"
   ]
  },
  {
   "cell_type": "markdown",
   "id": "c6e97350",
   "metadata": {},
   "source": [
    "c) add two more elements in the name [\"NetaJi\",\"Bose\"] at the end of the list."
   ]
  },
  {
   "cell_type": "code",
   "execution_count": 60,
   "id": "a6d36ba9",
   "metadata": {},
   "outputs": [
    {
     "name": "stdout",
     "output_type": "stream",
     "text": [
      "['freedomFighter', 'Bapuji', 'MOhan', 'dash', 'karam', 'chandra', 'gandhi', 'NetaJi', 'Bose']\n"
     ]
    }
   ],
   "source": [
    "name = [\"freedomFighter\", \"Bapuji\", \"MOhan\", \"dash\", \"karam\", \"chandra\", \"gandhi\"]\n",
    "\n",
    "name.append(\"NetaJi\")\n",
    "name.append(\"Bose\")\n",
    "\n",
    "print(name)"
   ]
  },
  {
   "cell_type": "markdown",
   "id": "e1254b63",
   "metadata": {},
   "source": [
    "d) what will be the value of temp:\n",
    "name = [\"Bapuji\", \"dash\", \"karam\", \"chandra\",\"gandi\",\"Mohan\"]\n",
    "temp=name[-1]\n",
    "name[-1]=name[0]\n",
    "name[0]=temp\n",
    "print(name)"
   ]
  },
  {
   "cell_type": "code",
   "execution_count": 61,
   "id": "1fe774b2",
   "metadata": {},
   "outputs": [
    {
     "name": "stdout",
     "output_type": "stream",
     "text": [
      "['Mohan', 'dash', 'karam', 'chandra', 'gandi', 'Bapuji']\n"
     ]
    }
   ],
   "source": [
    "name = [\"Bapuji\", \"dash\", \"karam\", \"chandra\", \"gandi\", \"Mohan\"]\n",
    "temp = name[-1]  \n",
    "name[-1] = name[0]  \n",
    "name[0] = temp  \n",
    "print(name)  "
   ]
  },
  {
   "cell_type": "markdown",
   "id": "6d6cb822",
   "metadata": {},
   "source": [
    "### Question 1.4.Find the output of the following."
   ]
  },
  {
   "cell_type": "code",
   "execution_count": 63,
   "id": "414f2415",
   "metadata": {},
   "outputs": [
    {
     "name": "stdout",
     "output_type": "stream",
     "text": [
      "2\n",
      "4\n",
      "7\n"
     ]
    }
   ],
   "source": [
    "animal = ['Human','cat','mat','cat','rat','Human', 'Lion']\n",
    "print(animal.count('Human'))\n",
    "print(animal.index('rat'))\n",
    "print(len(animal))"
   ]
  },
  {
   "cell_type": "markdown",
   "id": "bb3bdaa6",
   "metadata": {},
   "source": [
    "### 1.5 tuple1=(10,20,\"Apple\",3.4,'a',[\"master\",\"ji\"],(\"sita\",\"geeta\",22),[{\"roll_no\"N1}, {\"name\"N\"Navneet\"}])"
   ]
  },
  {
   "cell_type": "code",
   "execution_count": null,
   "id": "c82bb3f8",
   "metadata": {},
   "outputs": [],
   "source": []
  },
  {
   "cell_type": "code",
   "execution_count": null,
   "id": "843b3888",
   "metadata": {},
   "outputs": [],
   "source": []
  },
  {
   "cell_type": "markdown",
   "id": "8cfcba37",
   "metadata": {},
   "source": [
    "a)print(len(tuple))"
   ]
  },
  {
   "cell_type": "code",
   "execution_count": 64,
   "id": "a57a9d35",
   "metadata": {},
   "outputs": [
    {
     "name": "stdout",
     "output_type": "stream",
     "text": [
      "8\n"
     ]
    }
   ],
   "source": [
    "tuple1 = (10, 20, \"Apple\", 3.4, 'a', [\"master\", \"ji\"], (\"sita\", \"geeta\", 22), [{\"roll_no\": \"N1\"}, {\"name\": \"Navneet\"}])\n",
    "print(len(tuple1))\n"
   ]
  },
  {
   "cell_type": "markdown",
   "id": "aa2ec741",
   "metadata": {},
   "source": [
    "b) print(tuple[-1][-1]['name'])"
   ]
  },
  {
   "cell_type": "code",
   "execution_count": 65,
   "id": "4d7b94c1",
   "metadata": {},
   "outputs": [
    {
     "name": "stdout",
     "output_type": "stream",
     "text": [
      "Navneet\n"
     ]
    }
   ],
   "source": [
    "tuple1 = (10, 20, \"Apple\", 3.4, 'a', [\"master\", \"ji\"], (\"sita\", \"geeta\", 22), [{\"roll_no\": \"N1\"}, {\"name\": \"Navneet\"}])\n",
    "print(tuple1[-1][-1]['name'])"
   ]
  },
  {
   "cell_type": "markdown",
   "id": "a61aa239",
   "metadata": {},
   "source": [
    "c)fetch the value of roll_no from this tuple."
   ]
  },
  {
   "cell_type": "code",
   "execution_count": 66,
   "id": "e0d56c70",
   "metadata": {},
   "outputs": [
    {
     "name": "stdout",
     "output_type": "stream",
     "text": [
      "N1\n"
     ]
    }
   ],
   "source": [
    "tuple1 = (10, 20, \"Apple\", 3.4, 'a', [\"master\", \"ji\"], (\"sita\", \"geeta\", 22), [{\"roll_no\": \"N1\"}, {\"name\": \"Navneet\"}])\n",
    "roll_no_value = tuple1[-1][0]['roll_no']\n",
    "\n",
    "print(roll_no_value)"
   ]
  },
  {
   "cell_type": "markdown",
   "id": "ae51a41c",
   "metadata": {},
   "source": [
    "d)print(tuple1[-3][1])"
   ]
  },
  {
   "cell_type": "code",
   "execution_count": 67,
   "id": "e2eba9fb",
   "metadata": {},
   "outputs": [
    {
     "data": {
      "text/plain": [
       "'ji'"
      ]
     },
     "execution_count": 67,
     "metadata": {},
     "output_type": "execute_result"
    }
   ],
   "source": [
    "tuple1 = (10, 20, \"Apple\", 3.4, 'a', [\"master\", \"ji\"], (\"sita\", \"geeta\", 22), [{\"roll_no\": \"N1\"}, {\"name\": \"Navneet\"}])\n",
    "tuple1[-3][1]"
   ]
  },
  {
   "cell_type": "markdown",
   "id": "8b4c4a18",
   "metadata": {},
   "source": [
    "e)fetch the element \"22\" from this tuple."
   ]
  },
  {
   "cell_type": "code",
   "execution_count": 68,
   "id": "d7ea9e4e",
   "metadata": {},
   "outputs": [
    {
     "name": "stdout",
     "output_type": "stream",
     "text": [
      "22\n"
     ]
    }
   ],
   "source": [
    "tuple1 = (10, 20, \"Apple\", 3.4, 'a', [\"master\", \"ji\"], (\"sita\", \"geeta\", 22), [{\"roll_no\": \"N1\"}, {\"name\": \"Navneet\"}])\n",
    "element_22 = tuple1[-2][2]\n",
    "\n",
    "\n",
    "print(element_22)"
   ]
  },
  {
   "cell_type": "markdown",
   "id": "c67b48e1",
   "metadata": {},
   "source": [
    "### 1.6. Write a program to display the appropriate message as per the color of signal(RED-Stop/Yellow-Stay/ Green-Go) at the road crossing"
   ]
  },
  {
   "cell_type": "code",
   "execution_count": 69,
   "id": "284f446a",
   "metadata": {},
   "outputs": [
    {
     "name": "stdout",
     "output_type": "stream",
     "text": [
      "Enter the traffic signal color (RED, YELLOW, GREEN): grren\n",
      "Invalid color\n"
     ]
    }
   ],
   "source": [
    "def traffic_signal_message(color):\n",
    "    if color == \"RED\":\n",
    "        return \"Stop\"\n",
    "    elif color == \"YELLOW\":\n",
    "        return \"Stay\"\n",
    "    elif color == \"GREEN\":\n",
    "        return \"Go\"\n",
    "    else:\n",
    "        return \"Invalid color\"\n",
    "\n",
    "signal_color = input(\"Enter the traffic signal color (RED, YELLOW, GREEN): \").strip().upper()\n",
    "\n",
    "message = traffic_signal_message(signal_color)\n",
    "print(message)"
   ]
  },
  {
   "cell_type": "markdown",
   "id": "05fc4dd5",
   "metadata": {},
   "source": [
    "### 1.7. Write a program to create a simple calculator performing only four basic operations(+,-,/,*) ."
   ]
  },
  {
   "cell_type": "code",
   "execution_count": 70,
   "id": "c11dd975",
   "metadata": {},
   "outputs": [
    {
     "name": "stdout",
     "output_type": "stream",
     "text": [
      "Simple Calculator\n",
      "Available operations: +, -, *, /\n",
      "Enter the first number: 45\n",
      "Enter the second number: 12\n",
      "Enter the operation (+, -, *, /): +\n",
      "Result: 57.0\n"
     ]
    }
   ],
   "source": [
    "def calculate(num1, num2, operation):\n",
    "    if operation == '+':\n",
    "        return num1 + num2\n",
    "    elif operation == '-':\n",
    "        return num1 - num2\n",
    "    elif operation == '*':\n",
    "        return num1 * num2\n",
    "    elif operation == '/':\n",
    "        if num2 == 0:\n",
    "            return \"Error: Division by zero is not allowed.\"\n",
    "        return num1 / num2\n",
    "    else:\n",
    "        return \"Error: Invalid operation.\"\n",
    "\n",
    "def main():\n",
    "    print(\"Simple Calculator\")\n",
    "    print(\"Available operations: +, -, *, /\")\n",
    "    \n",
    "    try:\n",
    "        num1 = float(input(\"Enter the first number: \"))\n",
    "    except ValueError:\n",
    "        print(\"Invalid input! Please enter a number.\")\n",
    "        return\n",
    "    \n",
    "    try:\n",
    "        num2 = float(input(\"Enter the second number: \"))\n",
    "    except ValueError:\n",
    "        print(\"Invalid input! Please enter a number.\")\n",
    "        return\n",
    "    \n",
    "    operation = input(\"Enter the operation (+, -, *, /): \").strip()\n",
    "    \n",
    "    result = calculate(num1, num2, operation)\n",
    "    print(f\"Result: {result}\")\n",
    "\n",
    "if __name__ == \"__main__\":\n",
    "    main()"
   ]
  },
  {
   "cell_type": "markdown",
   "id": "ef9cb923",
   "metadata": {},
   "source": [
    "### 1.8. Write a program to find the larger of the three pre-specified numbers using ternary operators."
   ]
  },
  {
   "cell_type": "code",
   "execution_count": 71,
   "id": "0c4cd0fd",
   "metadata": {},
   "outputs": [
    {
     "name": "stdout",
     "output_type": "stream",
     "text": [
      "The largest number is: 25\n"
     ]
    }
   ],
   "source": [
    "num1 = 15\n",
    "num2 = 25\n",
    "num3 = 10\n",
    "\n",
    "largest = num1 if (num1 >= num2 and num1 >= num3) else (num2 if num2 >= num3 else num3)\n",
    "\n",
    "print(\"The largest number is:\", largest)"
   ]
  },
  {
   "cell_type": "markdown",
   "id": "c4a6fbc1",
   "metadata": {},
   "source": [
    "### 1.9. Write a program to find the factors of a whole number using a while loop. "
   ]
  },
  {
   "cell_type": "code",
   "execution_count": 72,
   "id": "14d59a16",
   "metadata": {},
   "outputs": [
    {
     "name": "stdout",
     "output_type": "stream",
     "text": [
      "Enter a whole number: 12\n",
      "Factors of 12 are:\n",
      "1 2 3 4 6 12 "
     ]
    }
   ],
   "source": [
    "def find_factors(number):\n",
    "    if number <= 0:\n",
    "        print(\"Please enter a positive whole number.\")\n",
    "        return\n",
    "    \n",
    "    i = 1\n",
    "    print(f\"Factors of {number} are:\")\n",
    "    \n",
    "    while i <= number:\n",
    "        if number % i == 0:\n",
    "            print(i, end=' ')\n",
    "        i += 1\n",
    "\n",
    "try:\n",
    "    num = int(input(\"Enter a whole number: \"))\n",
    "    find_factors(num)\n",
    "except ValueError:\n",
    "    print(\"Invalid input! Please enter a whole number.\")"
   ]
  },
  {
   "cell_type": "markdown",
   "id": "db82e285",
   "metadata": {},
   "source": [
    "### 1.10. Write a program to find the sum of all the positive numbers entered by the user. As soon as the user "
   ]
  },
  {
   "cell_type": "code",
   "execution_count": 73,
   "id": "1c80c134",
   "metadata": {},
   "outputs": [
    {
     "name": "stdout",
     "output_type": "stream",
     "text": [
      "Enter a positive number (or a negative number to stop): 25\n",
      "Enter a positive number (or a negative number to stop): -31\n",
      "The sum of all positive numbers entered is: 25.0\n"
     ]
    }
   ],
   "source": [
    "def sum_positive_numbers():\n",
    "    total_sum = 0\n",
    "    \n",
    "    while True:\n",
    "        try:\n",
    "            number = float(input(\"Enter a positive number (or a negative number to stop): \"))\n",
    "            \n",
    "            if number < 0:\n",
    "                break\n",
    "            \n",
    "            total_sum += number\n",
    "        \n",
    "        except ValueError:\n",
    "            print(\"Invalid input! Please enter a valid number.\")\n",
    "    \n",
    "    print(f\"The sum of all positive numbers entered is: {total_sum}\")\n",
    "\n",
    "sum_positive_numbers()"
   ]
  },
  {
   "cell_type": "markdown",
   "id": "1eee584b",
   "metadata": {},
   "source": [
    "### 1.11. Write a program to find prime numbers between 2 to 100 using nested for loops."
   ]
  },
  {
   "cell_type": "code",
   "execution_count": 74,
   "id": "833c92fa",
   "metadata": {},
   "outputs": [
    {
     "name": "stdout",
     "output_type": "stream",
     "text": [
      "Prime numbers between 2 and 100 are:\n",
      "2 3 5 7 11 13 17 19 23 29 31 37 41 43 47 53 59 61 67 71 73 79 83 89 97 "
     ]
    }
   ],
   "source": [
    "def is_prime(n):\n",
    "    \"\"\"Return True if n is a prime number, otherwise False.\"\"\"\n",
    "    if n <= 1:\n",
    "        return False\n",
    "    for i in range(2, int(n**0.5) + 1):\n",
    "        if n % i == 0:\n",
    "            return False\n",
    "    return True\n",
    "\n",
    "def find_primes_in_range(start, end):\n",
    "    \"\"\"Print all prime numbers in the range [start, end].\"\"\"\n",
    "    print(f\"Prime numbers between {start} and {end} are:\")\n",
    "    for num in range(start, end + 1):\n",
    "        if is_prime(num):\n",
    "            print(num, end=' ')\n",
    "\n",
    "find_primes_in_range(2, 100)"
   ]
  },
  {
   "cell_type": "markdown",
   "id": "eef9578b",
   "metadata": {},
   "source": [
    "## 1.12 Write the programs for the following\n",
    "i. Accept the marks of the student in five major subjects and display the same."
   ]
  },
  {
   "cell_type": "markdown",
   "id": "3cb3d4f2",
   "metadata": {},
   "source": [
    "Grade A: Percentage > 85\n",
    "Grade B: 85 < && Percentage >= 75\n",
    "Grade C: 75 < && Percentage >= 50\n",
    "Grade D: 50 <= Percentage > 30\n",
    "Reappear: Percentage < 30"
   ]
  },
  {
   "cell_type": "code",
   "execution_count": 75,
   "id": "1494fbb5",
   "metadata": {},
   "outputs": [
    {
     "name": "stdout",
     "output_type": "stream",
     "text": [
      "Enter marks for Subject 1: 58\n",
      "Enter marks for Subject 2: 88\n",
      "Enter marks for Subject 3: 65\n",
      "Enter marks for Subject 4: 75\n",
      "Enter marks for Subject 5: 65\n",
      "\n",
      "Marks Obtained:\n",
      "Subject 1: 58.0\n",
      "Subject 2: 88.0\n",
      "Subject 3: 65.0\n",
      "Subject 4: 75.0\n",
      "Subject 5: 65.0\n",
      "\n",
      "Percentage: 70.2%\n",
      "Grade: C\n"
     ]
    }
   ],
   "source": [
    "def calculate_grade(percentage):\n",
    "    if percentage > 85:\n",
    "        return \"A\"\n",
    "    elif percentage <= 85 and percentage > 75:\n",
    "        return \"B\"\n",
    "    elif percentage <= 75 and percentage > 50:\n",
    "        return \"C\"\n",
    "    elif percentage <= 50 and percentage > 30:\n",
    "        return \"D\"\n",
    "    else:\n",
    "        return \"Reappear\"\n",
    "\n",
    "def calculate_percentage(marks):\n",
    "    return sum(marks) / len(marks)\n",
    "\n",
    "def main():\n",
    "    subjects = ['Subject 1', 'Subject 2', 'Subject 3', 'Subject 4', 'Subject 5']\n",
    "    marks = []\n",
    "\n",
    "    for subject in subjects:\n",
    "        mark = float(input(f\"Enter marks for {subject}: \"))\n",
    "        marks.append(mark)\n",
    "\n",
    "    percentage = calculate_percentage(marks)\n",
    "    grade = calculate_grade(percentage)\n",
    "\n",
    "    print(\"\\nMarks Obtained:\")\n",
    "    for i, mark in enumerate(marks):\n",
    "        print(f\"{subjects[i]}: {mark}\")\n",
    "\n",
    "    print(f\"\\nPercentage: {percentage}%\")\n",
    "    print(f\"Grade: {grade}\")\n",
    "\n",
    "if __name__ == \"__main__\":\n",
    "    main()"
   ]
  },
  {
   "cell_type": "markdown",
   "id": "1d3a0988",
   "metadata": {},
   "source": [
    "### ii )Calculate the sum of the marks of all subjects. Divide the total marks by number of subjects (i.e. 5), calculate percentage = total marks/5 and display the percentage"
   ]
  },
  {
   "cell_type": "code",
   "execution_count": 76,
   "id": "8cc59ae6",
   "metadata": {},
   "outputs": [
    {
     "name": "stdout",
     "output_type": "stream",
     "text": [
      "Enter marks for Subject 1: 56\n",
      "Enter marks for Subject 2: 86\n",
      "Enter marks for Subject 3: 89\n",
      "Enter marks for Subject 4: 78\n",
      "Enter marks for Subject 5: 74\n",
      "\n",
      "Marks Obtained:\n",
      "Subject 1: 56.0\n",
      "Subject 2: 86.0\n",
      "Subject 3: 89.0\n",
      "Subject 4: 78.0\n",
      "Subject 5: 74.0\n",
      "\n",
      "Total Marks: 383.0\n",
      "Percentage: 76.6%\n",
      "Grade: B\n"
     ]
    }
   ],
   "source": [
    "def calculate_grade(percentage):\n",
    "    if percentage > 85:\n",
    "        return \"A\"\n",
    "    elif percentage <= 85 and percentage > 75:\n",
    "        return \"B\"\n",
    "    elif percentage <= 75 and percentage > 50:\n",
    "        return \"C\"\n",
    "    elif percentage <= 50 and percentage > 30:\n",
    "        return \"D\"\n",
    "    else:\n",
    "        return \"Reappear\"\n",
    "\n",
    "def main():\n",
    "    subjects = ['Subject 1', 'Subject 2', 'Subject 3', 'Subject 4', 'Subject 5']\n",
    "    marks = []\n",
    "\n",
    "    for subject in subjects:\n",
    "        mark = float(input(f\"Enter marks for {subject}: \"))\n",
    "        marks.append(mark)\n",
    "\n",
    "    total_marks = sum(marks)\n",
    "    percentage = total_marks / len(subjects)\n",
    "    grade = calculate_grade(percentage)\n",
    "\n",
    "    print(\"\\nMarks Obtained:\")\n",
    "    for i, mark in enumerate(marks):\n",
    "        print(f\"{subjects[i]}: {mark}\")\n",
    "\n",
    "    print(f\"\\nTotal Marks: {total_marks}\")\n",
    "    print(f\"Percentage: {percentage}%\")\n",
    "    print(f\"Grade: {grade}\")\n",
    "\n",
    "if __name__ == \"__main__\":\n",
    "    main()"
   ]
  },
  {
   "cell_type": "markdown",
   "id": "f26350f2",
   "metadata": {},
   "source": [
    "### iii) Find the grade of the student as Ter the following criteria . Hint: Use Match & case for this.: "
   ]
  },
  {
   "cell_type": "code",
   "execution_count": 77,
   "id": "9942b00f",
   "metadata": {},
   "outputs": [
    {
     "name": "stdout",
     "output_type": "stream",
     "text": [
      "Enter marks for Subject 1: 89\n",
      "Enter marks for Subject 2: 57\n",
      "Enter marks for Subject 3: 36\n",
      "Enter marks for Subject 4: 48\n",
      "Enter marks for Subject 5: 68\n",
      "\n",
      "Marks Obtained:\n",
      "Subject 1: 89.0\n",
      "Subject 2: 57.0\n",
      "Subject 3: 36.0\n",
      "Subject 4: 48.0\n",
      "Subject 5: 68.0\n",
      "\n",
      "Total Marks: 298.0\n",
      "Percentage: 59.6%\n",
      "Grade: C\n"
     ]
    }
   ],
   "source": [
    "def calculate_grade(percentage):\n",
    "    match percentage:\n",
    "        case _ if percentage > 85:\n",
    "            return \"A\"\n",
    "        case _ if 75 < percentage <= 85:\n",
    "            return \"B\"\n",
    "        case _ if 50 < percentage <= 75:\n",
    "            return \"C\"\n",
    "        case _ if 30 < percentage <= 50:\n",
    "            return \"D\"\n",
    "        case _ if percentage <= 30:\n",
    "            return \"Reappear\"\n",
    "\n",
    "def main():\n",
    "    subjects = ['Subject 1', 'Subject 2', 'Subject 3', 'Subject 4', 'Subject 5']\n",
    "    marks = []\n",
    "\n",
    "    for subject in subjects:\n",
    "        mark = float(input(f\"Enter marks for {subject}: \"))\n",
    "        marks.append(mark)\n",
    "\n",
    "    total_marks = sum(marks)\n",
    "    percentage = total_marks / len(subjects)\n",
    "    grade = calculate_grade(percentage)\n",
    "\n",
    "    print(\"\\nMarks Obtained:\")\n",
    "    for i, mark in enumerate(marks):\n",
    "        print(f\"{subjects[i]}: {mark}\")\n",
    "\n",
    "    print(f\"\\nTotal Marks: {total_marks}\")\n",
    "    print(f\"Percentage: {percentage}%\")\n",
    "    print(f\"Grade: {grade}\")\n",
    "\n",
    "if __name__ == \"__main__\":\n",
    "    main()"
   ]
  },
  {
   "cell_type": "markdown",
   "id": "77e53513",
   "metadata": {},
   "source": [
    "### 1.13. Write a program for VIBGYOR Spectrum based on their Wavelength using. Wavelength Range:"
   ]
  },
  {
   "cell_type": "code",
   "execution_count": null,
   "id": "95cc550a",
   "metadata": {},
   "outputs": [],
   "source": [
    "Color\tWavelength (nm)\n",
    "Violet\t400.0 - 440.0\n",
    "Indigo\t440.0 - 460.0\n",
    "Blue\t460.0 - 500.0\n",
    "Green\t500.0 - 570.0\n",
    "Yellow\t570.0 - 590.0\n",
    "Orange\t590.0 - 620.0\n",
    "Red\t620.0 - 720.0"
   ]
  },
  {
   "cell_type": "code",
   "execution_count": 78,
   "id": "9114f8cb",
   "metadata": {},
   "outputs": [
    {
     "name": "stdout",
     "output_type": "stream",
     "text": [
      "Enter the wavelength (in nm): 566\n",
      "The color corresponding to the wavelength 566.0 nm is: Green\n"
     ]
    }
   ],
   "source": [
    "def determine_color(wavelength):\n",
    "    match wavelength:\n",
    "        case _ if 400.0 <= wavelength < 440.0:\n",
    "            return \"Violet\"\n",
    "        case _ if 440.0 <= wavelength < 460.0:\n",
    "            return \"Indigo\"\n",
    "        case _ if 460.0 <= wavelength < 500.0:\n",
    "            return \"Blue\"\n",
    "        case _ if 500.0 <= wavelength < 570.0:\n",
    "            return \"Green\"\n",
    "        case _ if 570.0 <= wavelength < 590.0:\n",
    "            return \"Yellow\"\n",
    "        case _ if 590.0 <= wavelength < 620.0:\n",
    "            return \"Orange\"\n",
    "        case _ if 620.0 <= wavelength <= 720.0:\n",
    "            return \"Red\"\n",
    "        case _:\n",
    "            return \"Wavelength out of visible spectrum\"\n",
    "\n",
    "def main():\n",
    "    wavelength = float(input(\"Enter the wavelength (in nm): \"))\n",
    "    color = determine_color(wavelength)\n",
    "    print(f\"The color corresponding to the wavelength {wavelength} nm is: {color}\")\n",
    "\n",
    "if __name__ == \"__main__\":\n",
    "    main()"
   ]
  },
  {
   "cell_type": "markdown",
   "id": "0ebe3821",
   "metadata": {},
   "source": [
    "### 1.14.Consider the gravitational interactions between the Earth, Moon, and Sun in our solar system."
   ]
  },
  {
   "cell_type": "code",
   "execution_count": null,
   "id": "522253f4",
   "metadata": {},
   "outputs": [],
   "source": [
    "mass_earth = 5.972e24 # Mass of Earth in kilograms\n",
    "mass_moon = 7.34767309e22 # Mass of Moon in kilograms\n",
    "mass_sun = .989e30 # Mass of Sun in kilograms\n",
    "distance_earth_sun = .496e # Average distan0e between Earth and Sun in meters\n",
    "distance_moon_earth = 3.844e8 # Average distan0e between Moon and Earth in meters"
   ]
  },
  {
   "cell_type": "markdown",
   "id": "d9c66112",
   "metadata": {},
   "source": [
    "### i) Calculate the gravitational for0e between the Earth and the Sun "
   ]
  },
  {
   "cell_type": "code",
   "execution_count": 79,
   "id": "53475964",
   "metadata": {},
   "outputs": [
    {
     "name": "stdout",
     "output_type": "stream",
     "text": [
      "The gravitational force between the Earth and the Sun is approximately 1.76e+22 N.\n"
     ]
    }
   ],
   "source": [
    "def gravitational_force(m1, m2, r):\n",
    "    G = 6.67430e-11  # Gravitational constant in m^3 kg^-1 s^-2\n",
    "    return G * m1 * m2 / r**2\n",
    "\n",
    "mass_earth = 5.972e24  # Mass of Earth in kg\n",
    "mass_sun = 0.989e30    # Mass of Sun in kg\n",
    "distance_earth_sun = 1.496e11  # Distance between Earth and Sun in meters\n",
    "\n",
    "force_earth_sun = gravitational_force(mass_earth, mass_sun, distance_earth_sun)\n",
    "print(f\"The gravitational force between the Earth and the Sun is approximately {force_earth_sun:.2e} N.\")"
   ]
  },
  {
   "cell_type": "markdown",
   "id": "4ca48d57",
   "metadata": {},
   "source": [
    "### ii) Calculate the gravitational for0e between the Moon and the Earth."
   ]
  },
  {
   "cell_type": "code",
   "execution_count": 80,
   "id": "c96fb8a2",
   "metadata": {},
   "outputs": [
    {
     "name": "stdout",
     "output_type": "stream",
     "text": [
      "The gravitational force between the Moon and the Earth is approximately 1.98e+20 N.\n"
     ]
    }
   ],
   "source": [
    "def gravitational_force(m1, m2, r):\n",
    "    G = 6.67430e-11  # Gravitational constant in m^3 kg^-1 s^-2\n",
    "    return G * m1 * m2 / r**2\n",
    "\n",
    "mass_earth = 5.972e24  # Mass of Earth in kg\n",
    "mass_moon = 7.34767309e22  # Mass of Moon in kg\n",
    "distance_moon_earth = 3.844e8  # Distance between Moon and Earth in meters\n",
    "\n",
    "force_moon_earth = gravitational_force(mass_earth, mass_moon, distance_moon_earth)\n",
    "print(f\"The gravitational force between the Moon and the Earth is approximately {force_moon_earth:.2e} N.\")"
   ]
  },
  {
   "cell_type": "markdown",
   "id": "072825b4",
   "metadata": {},
   "source": [
    "### iii) Compare the calculated forces to determine which gravitational force is stronger. "
   ]
  },
  {
   "cell_type": "code",
   "execution_count": 81,
   "id": "b5fa6234",
   "metadata": {},
   "outputs": [
    {
     "name": "stdout",
     "output_type": "stream",
     "text": [
      "Gravitational force between the Earth and the Sun: 1.76e+22 N\n",
      "Gravitational force between the Earth and the Moon: 1.98e+20 N\n",
      "The stronger gravitational force is between the Sun-Earth.\n"
     ]
    }
   ],
   "source": [
    "def gravitational_force(m1, m2, r):\n",
    "    G = 6.67430e-11  # Gravitational constant in m^3 kg^-1 s^-2\n",
    "    return G * m1 * m2 / r**2\n",
    "\n",
    "# Given values\n",
    "mass_earth = 5.972e24  # Mass of Earth in kg\n",
    "mass_moon = 7.34767309e22  # Mass of Moon in kg\n",
    "mass_sun = 0.989e30    # Mass of Sun in kg\n",
    "distance_earth_sun = 1.496e11  # Distance between Earth and Sun in meters\n",
    "distance_moon_earth = 3.844e8  # Distance between Moon and Earth in meters\n",
    "\n",
    "# Calculate gravitational forces\n",
    "force_earth_sun = gravitational_force(mass_earth, mass_sun, distance_earth_sun)\n",
    "force_moon_earth = gravitational_force(mass_earth, mass_moon, distance_moon_earth)\n",
    "\n",
    "# Compare the forces\n",
    "stronger_force = \"Sun-Earth\" if force_earth_sun > force_moon_earth else \"Moon-Earth\"\n",
    "\n",
    "print(f\"Gravitational force between the Earth and the Sun: {force_earth_sun:.2e} N\")\n",
    "print(f\"Gravitational force between the Earth and the Moon: {force_moon_earth:.2e} N\")\n",
    "print(f\"The stronger gravitational force is between the {stronger_force}.\")"
   ]
  },
  {
   "cell_type": "markdown",
   "id": "91d4b3c6",
   "metadata": {},
   "source": [
    "### iv) Explain which celestial body (Earth or Moon is more attracted to the other based on the comparison."
   ]
  },
  {
   "cell_type": "markdown",
   "id": "0c54c9b9",
   "metadata": {},
   "source": [
    "In the context of gravitational attraction, Newton's Third Law states that the force exerted by one object on another is equal in magnitude and opposite in direction. This means that the Earth and the Moon exert the same amount of gravitational force on each other. The same principle applies to the Earth and the Sun.\n",
    "\n",
    "Equal Forces: The gravitational force the Earth exerts on the Moon is exactly equal to the gravitational force the Moon exerts \n",
    "on the Earth. The same is true for the Earth-Sun system.\n",
    "\n",
    "Effect on Motion: Even though the forces are equal, the effect of these forces on each body depends on their masses. The less massive object (Moon) experiences a greater acceleration due to the force compared to the more massive object (Earth).\n",
    "\n",
    "Attraction Implications:\n",
    "Earth and Moon: Despite the Moon's much smaller mass compared to the Earth, they mutually attract each other with the same force. However, the Moon's smaller mass means it accelerates more towards the Earth than the Earth does towards the Moon.\n",
    "\n",
    "Earth and Sun: The same principle applies between the Earth and the Sun. The Earth is much less massive than the Sun, so the Earth accelerates more towards the Sun than the Sun does towards the Earth, despite the forces being equal.\n",
    "\n",
    "Conclusion:\n",
    "Attraction to Earth or Moon: Both the Earth and the Moon are equally attracted to each other, but the Moon experiences a greater acceleration due to its smaller mass.\n",
    "\n",
    "Attraction to Earth or Sun: Similarly, both the Earth and the Sun are equally attracted to each other, but the Earth experiences a greater acceleration due to its much smaller mass compared to the Sun."
   ]
  },
  {
   "cell_type": "markdown",
   "id": "a0e3b29a",
   "metadata": {},
   "source": [
    "2. Design and implement a Python program for managing student information using object-oriented\n",
    "principles. Create a class called `Student` with encapsulated attributes for name, age, and roll number.\n",
    "Implement getter and setter methods for these attributes. Additionally, provide methods to display student\n",
    "information and update student details."
   ]
  },
  {
   "cell_type": "code",
   "execution_count": 1,
   "id": "e562cc1d",
   "metadata": {},
   "outputs": [
    {
     "name": "stdout",
     "output_type": "stream",
     "text": [
      "Name: Alice, Age: 20, Roll Number: S123\n",
      "Name: Alice Johnson, Age: 21, Roll Number: S123\n"
     ]
    }
   ],
   "source": [
    "class Student:\n",
    "    def __init__(self, name, age, roll_number):\n",
    "        self.__name = name\n",
    "        self.__age = age\n",
    "        self.__roll_number = roll_number\n",
    "    def get_name(self):\n",
    "        return self.__name    \n",
    "    def set_name(self, name):\n",
    "        self.__name = name\n",
    "    def get_age(self):\n",
    "        return self.__age\n",
    "    def set_age(self, age):\n",
    "        self.__age = age\n",
    "    def get_roll_number(self):\n",
    "        return self.__roll_number\n",
    "    \n",
    "    def set_roll_number(self, roll_number):\n",
    "        self.__roll_number = roll_number\n",
    "    def display_info(self):\n",
    "        print(f\"Name: {self.__name}, Age: {self.__age}, Roll Number: {self.__roll_number}\")\n",
    "    def update_details(self, name=None, age=None, roll_number=None):\n",
    "        if name:\n",
    "            self.set_name(name)\n",
    "        if age:\n",
    "            self.set_age(age)\n",
    "        if roll_number:\n",
    "            self.set_roll_number(roll_number)\n",
    "\n",
    "student1 = Student(\"Alice\", 20, \"S123\")\n",
    "student1.display_info()\n",
    "student1.update_details(name=\"Alice Johnson\", age=21)\n",
    "student1.display_info()\n"
   ]
  },
  {
   "cell_type": "markdown",
   "id": "2900107d",
   "metadata": {},
   "source": [
    "3.Develop a Python program for managing library resources efficiently. Design a class named `LibraryBook`\n",
    "with attributes like book name, author, and availability status. Implement methods for borrowing and\n",
    "returning books while ensuring proper encapsulation of attributes.\n",
    "\n",
    "\n",
    "Tasks\u000e\n",
    "3 1. Create the `LibraryBook` class with encapsulated attributes\u0016\n",
    "3 2. Implement methods for borrowing and returning books\u0016\n",
    "3 3. Ensure proper encapsulation to protect book details\u0016\n",
    "3 4. Test the borrowing and returning functionality with sample data."
   ]
  },
  {
   "cell_type": "code",
   "execution_count": 3,
   "id": "094257fa",
   "metadata": {},
   "outputs": [
    {
     "name": "stdout",
     "output_type": "stream",
     "text": [
      "You have successfully borrowed '1984' by George Orwell.\n",
      "Sorry, '1984' by George Orwell is currently not available.\n",
      "Thank you for returning '1984' by George Orwell.\n",
      "'1984' by George Orwell was not borrowed.\n",
      "Book Details: {'book_name': '1984', 'author': 'George Orwell', 'is_available': True}\n"
     ]
    }
   ],
   "source": [
    "class LibraryBook:\n",
    "    def __init__(self, book_name, author):\n",
    "        self.__book_name = book_name\n",
    "        self.__author = author\n",
    "        self.__is_available = True\n",
    "\n",
    "    # Method to borrow the book\n",
    "    def borrow_book(self):\n",
    "        if self.__is_available:\n",
    "            self.__is_available = False\n",
    "            print(f\"You have successfully borrowed '{self.__book_name}' by {self.__author}.\")\n",
    "        else:\n",
    "            print(f\"Sorry, '{self.__book_name}' by {self.__author} is currently not available.\")\n",
    "\n",
    "    # Method to return the book\n",
    "    def return_book(self):\n",
    "        if not self.__is_available:\n",
    "            self.__is_available = True\n",
    "            print(f\"Thank you for returning '{self.__book_name}' by {self.__author}.\")\n",
    "        else:\n",
    "            print(f\"'{self.__book_name}' by {self.__author} was not borrowed.\")\n",
    "\n",
    "    # Method to check availability\n",
    "    def is_book_available(self):\n",
    "        return self.__is_available\n",
    "\n",
    "    # Method to get book details\n",
    "    def get_book_details(self):\n",
    "        return {\n",
    "            'book_name': self.__book_name,\n",
    "            'author': self.__author,\n",
    "            'is_available': self.__is_available\n",
    "        }\n",
    "\n",
    "# Testing the borrowing and returning functionality with sample data\n",
    "if __name__ == \"__main__\":\n",
    "    # Create a LibraryBook object\n",
    "    book = LibraryBook(\"1984\", \"George Orwell\")\n",
    "\n",
    "    # Check availability and borrow the book\n",
    "    if book.is_book_available():\n",
    "        book.borrow_book()\n",
    "\n",
    "    # Try borrowing the book again\n",
    "    book.borrow_book()\n",
    "\n",
    "    # Return the book\n",
    "    book.return_book()\n",
    "\n",
    "    # Try returning the book again\n",
    "    book.return_book()\n",
    "\n",
    "    # Get book details\n",
    "    details = book.get_book_details()\n",
    "    print(f\"Book Details: {details}\")\n"
   ]
  },
  {
   "cell_type": "markdown",
   "id": "48c806de",
   "metadata": {},
   "source": [
    "4.Create a simple banking system using object-oriented concepts in Python. Design classes representing\n",
    "different types of bank accounts such as savings and checking. Implement methods for deposit, withdraw,\n",
    "and balance inquiry. Utilize inheritance to manage different account types efficiently.\n",
    "\n",
    "\n",
    "Tasks\u000e\n",
    "3 1. Define base class(es) for bank accounts with common attributes and methods\u0016\n",
    "3 2. Implement subclasses for specific account types (e.g., SavingsAccount, CheckingAccount)\u0016\n",
    "3 3. Provide methods for deposit, withdraw, and balance inquiry in each subclass\u0016\n",
    "3 4. Test the banking system by creating instances of different account types and performing transactions."
   ]
  },
  {
   "cell_type": "code",
   "execution_count": 5,
   "id": "c1185238",
   "metadata": {},
   "outputs": [
    {
     "name": "stdout",
     "output_type": "stream",
     "text": [
      "John Doe's account balance: 1000.0\n",
      "Deposited 500 to John Doe's account. New balance: 1500.0\n",
      "Applied interest of 30.0 to John Doe's account. New balance: 1530.0\n",
      "Withdrew 200 from John Doe's account. New balance: 1330.0\n",
      "John Doe's account balance: 1330.0\n",
      "Jane Doe's account balance: 500.0\n",
      "Deposited 300 to Jane Doe's account. New balance: 800.0\n",
      "Withdrew 1000 from Jane Doe's account. New balance: -200.0\n",
      "Jane Doe's account balance: -200.0\n",
      "Withdrawal amount exceeds overdraft limit.\n",
      "Jane Doe's account balance: -200.0\n"
     ]
    }
   ],
   "source": [
    "class BankAccount:\n",
    "    def __init__(self, account_number, account_holder, balance=0.0):\n",
    "        self.account_number = account_number\n",
    "        self.account_holder = account_holder\n",
    "        self.balance = balance\n",
    "\n",
    "    def deposit(self, amount):\n",
    "        if amount > 0:\n",
    "            self.balance += amount\n",
    "            print(f\"Deposited {amount} to {self.account_holder}'s account. New balance: {self.balance}\")\n",
    "        else:\n",
    "            print(\"Invalid deposit amount.\")\n",
    "\n",
    "    def withdraw(self, amount):\n",
    "        if 0 < amount <= self.balance:\n",
    "            self.balance -= amount\n",
    "            print(f\"Withdrew {amount} from {self.account_holder}'s account. New balance: {self.balance}\")\n",
    "        else:\n",
    "            print(\"Invalid withdrawal amount or insufficient funds.\")\n",
    "\n",
    "    def get_balance(self):\n",
    "        print(f\"{self.account_holder}'s account balance: {self.balance}\")\n",
    "        return self.balance\n",
    "\n",
    "\n",
    "class SavingsAccount(BankAccount):\n",
    "    def __init__(self, account_number, account_holder, balance=0.0, interest_rate=0.02):\n",
    "        super().__init__(account_number, account_holder, balance)\n",
    "        self.interest_rate = interest_rate\n",
    "\n",
    "    def apply_interest(self):\n",
    "        interest = self.balance * self.interest_rate\n",
    "        self.balance += interest\n",
    "        print(f\"Applied interest of {interest} to {self.account_holder}'s account. New balance: {self.balance}\")\n",
    "\n",
    "\n",
    "class CheckingAccount(BankAccount):\n",
    "    def __init__(self, account_number, account_holder, balance=0.0, overdraft_limit=500.0):\n",
    "        super().__init__(account_number, account_holder, balance)\n",
    "        self.overdraft_limit = overdraft_limit\n",
    "\n",
    "    def withdraw(self, amount):\n",
    "        if 0 < amount <= self.balance + self.overdraft_limit:\n",
    "            self.balance -= amount\n",
    "            print(f\"Withdrew {amount} from {self.account_holder}'s account. New balance: {self.balance}\")\n",
    "        else:\n",
    "            print(\"Withdrawal amount exceeds overdraft limit.\")\n",
    "if __name__ == \"__main__\":\n",
    "    savings = SavingsAccount(\"001\", \"John Doe\", 1000.0)\n",
    "    savings.get_balance()\n",
    "    savings.deposit(500)\n",
    "    savings.apply_interest()\n",
    "    savings.withdraw(200)\n",
    "    savings.get_balance()\n",
    "    \n",
    "    checking = CheckingAccount(\"002\", \"Jane Doe\", 500.0)\n",
    "    checking.get_balance()\n",
    "    checking.deposit(300)\n",
    "    checking.withdraw(1000)  \n",
    "    checking.get_balance()\n",
    "    checking.withdraw(1000)  \n",
    "    checking.get_balance()\n",
    "\n"
   ]
  },
  {
   "cell_type": "markdown",
   "id": "2f710ff9",
   "metadata": {},
   "source": [
    "5.Write a Python program that models different animals and their sounds. Design a base class called\n",
    "`Animal` with a method `make_sound()`. Create subclasses like `Dog` and `Cat` that override the\n",
    "`make_sound()` method to produce appropriate sounds.\n",
    "\n",
    "\n",
    "Tasks\u000e\n",
    "3 1. Define the `Animal` class with a method `make_sound()`\u0016\n",
    "3 2. Create subclasses `Dog` and `Cat` that override the `make_sound()` method\u0016\n",
    "3 3. Implement the sound generation logic for each subclass\u0016\n",
    "3 4. Test the program by creating instances of `Dog` and `Cat` and calling the `make_sound()` method."
   ]
  },
  {
   "cell_type": "code",
   "execution_count": 6,
   "id": "b6f8ddae",
   "metadata": {},
   "outputs": [
    {
     "name": "stdout",
     "output_type": "stream",
     "text": [
      "Dog says: Woof! Woof!\n",
      "Cat says: Meow! Meow!\n"
     ]
    }
   ],
   "source": [
    "\n",
    "class Animal:\n",
    "    def make_sound(self):\n",
    "        raise NotImplementedError(\"Subclasses must implement this method\")\n",
    "class Dog(Animal):\n",
    "    def make_sound(self):\n",
    "        return \"Woof! Woof!\"\n",
    "\n",
    "class Cat(Animal):\n",
    "    def make_sound(self):\n",
    "        return \"Meow! Meow!\"\n",
    "\n",
    "\n",
    "if __name__ == \"__main__\":\n",
    "    dog = Dog()\n",
    "    cat = Cat()\n",
    "  # Call the make_sound() method for each instance\n",
    "    print(f\"Dog says: {dog.make_sound()}\")\n",
    "    print(f\"Cat says: {cat.make_sound()}\")\n"
   ]
  },
  {
   "cell_type": "markdown",
   "id": "4157ce9d",
   "metadata": {},
   "source": [
    "6].Write a code for Restaurant Management System Using OOPS3\n",
    "& Create a MenuItem class that has attributes such as name, description, price, and category\u0014\n",
    "& Implement methods to add a new menu item, update menu item information, and remove a menu item\n",
    "from the menu\u0014\n",
    "& Use encapsulation to hide the menu item's unique identification number\u0014\n",
    "& Inherit from the MenuItem class to create a FoodItem class and a BeverageItem class, each with their own\n",
    "specific attributes and methods."
   ]
  },
  {
   "cell_type": "code",
   "execution_count": 7,
   "id": "78ad2ba0",
   "metadata": {},
   "outputs": [
    {
     "name": "stdout",
     "output_type": "stream",
     "text": [
      "{'name': 'Pizza', 'description': 'Delicious cheesy pizza', 'price': 12.99, 'category': 'Main Course', 'item_id': 101}\n",
      "{'name': 'Pizza', 'description': 'Delicious cheesy pizza', 'price': 14.99, 'category': 'Main Course', 'item_id': 101}\n",
      "{'name': 'Coca Cola', 'description': 'Chilled soft drink', 'price': 1.99, 'category': 'Drinks', 'item_id': 102}\n"
     ]
    }
   ],
   "source": [
    "class MenuItem:\n",
    "    def __init__(self, name, description, price, category, item_id):\n",
    "        self.name = name\n",
    "        self.description = description\n",
    "        self.price = price\n",
    "        self.category = category\n",
    "        self.__item_id = item_id\n",
    "\n",
    "    def update_item(self, name=None, description=None, price=None, category=None):\n",
    "        if name:\n",
    "            self.name = name\n",
    "        if description:\n",
    "            self.description = description\n",
    "        if price:\n",
    "            self.price = price\n",
    "        if category:\n",
    "            self.category = category\n",
    "\n",
    "    def remove_item(self):\n",
    "        del self\n",
    "\n",
    "    def get_item_details(self):\n",
    "        return {\n",
    "            'name': self.name,\n",
    "            'description': self.description,\n",
    "            'price': self.price,\n",
    "            'category': self.category,\n",
    "            'item_id': self.__item_id\n",
    "        }\n",
    "\n",
    "class FoodItem(MenuItem):\n",
    "    def __init__(self, name, description, price, category, item_id, is_vegetarian):\n",
    "        super().__init__(name, description, price, category, item_id)\n",
    "        self.is_vegetarian = is_vegetarian\n",
    "\n",
    "class BeverageItem(MenuItem):\n",
    "    def __init__(self, name, description, price, category, item_id, is_alcoholic):\n",
    "        super().__init__(name, description, price, category, item_id)\n",
    "        self.is_alcoholic = is_alcoholic\n",
    "\n",
    "# Testing the Restaurant Management System\n",
    "if __name__ == \"__main__\":\n",
    "    # Create a FoodItem\n",
    "    pizza = FoodItem(\"Pizza\", \"Delicious cheesy pizza\", 12.99, \"Main Course\", 101, is_vegetarian=False)\n",
    "    print(pizza.get_item_details())\n",
    "\n",
    "    # Update the FoodItem\n",
    "    pizza.update_item(price=14.99)\n",
    "    print(pizza.get_item_details())\n",
    "\n",
    "    # Create a BeverageItem\n",
    "    cola = BeverageItem(\"Coca Cola\", \"Chilled soft drink\", 1.99, \"Drinks\", 102, is_alcoholic=False)\n",
    "    print(cola.get_item_details())\n"
   ]
  },
  {
   "cell_type": "markdown",
   "id": "911ae8e3",
   "metadata": {},
   "source": [
    "7]Write a code for Hotel Management System using OOPS 3\n",
    "& Create a Room class that has attributes such as room number, room type, rate, and availability (private)\u0014\n",
    "& Implement methods to book a room, check in a guest, and check out a guest\u0014\n",
    "& Use encapsulation to hide the room's unique identification number\u0014\n",
    "& Inherit from the Room class to create a SuiteRoom class and a StandardRoom class, each with their own\n",
    "specific attributes and methods."
   ]
  },
  {
   "cell_type": "code",
   "execution_count": 9,
   "id": "7bad0032",
   "metadata": {},
   "outputs": [
    {
     "name": "stdout",
     "output_type": "stream",
     "text": [
      "Room 101 has been booked.\n",
      "Guest has checked into room 101.\n",
      "Guest has checked out of room 101. Room is now available.\n",
      "{'room_number': 101, 'room_type': 'Suite', 'rate': 250.0, 'availability': True}\n",
      "Room 102 has been booked.\n",
      "Guest has checked into room 102.\n",
      "{'room_number': 102, 'room_type': 'Standard', 'rate': 100.0, 'availability': False}\n"
     ]
    }
   ],
   "source": [
    "class Room:\n",
    "    def __init__(self, room_number, room_type, rate, availability=True):\n",
    "        self.__room_number = room_number\n",
    "        self.room_type = room_type\n",
    "        self.rate = rate\n",
    "        self.__availability = availability\n",
    "\n",
    "    def book_room(self):\n",
    "        if self.__availability:\n",
    "            self.__availability = False\n",
    "            print(f\"Room {self.__room_number} has been booked.\")\n",
    "        else:\n",
    "            print(f\"Room {self.__room_number} is not available.\")\n",
    "\n",
    "    def check_in(self):\n",
    "        if not self.__availability:\n",
    "            print(f\"Guest has checked into room {self.__room_number}.\")\n",
    "        else:\n",
    "            print(f\"Room {self.__room_number} is not booked yet.\")\n",
    "\n",
    "    def check_out(self):\n",
    "        if not self.__availability:\n",
    "            self.__availability = True\n",
    "            print(f\"Guest has checked out of room {self.__room_number}. Room is now available.\")\n",
    "        else:\n",
    "            print(f\"Room {self.__room_number} is already available.\")\n",
    "\n",
    "    def get_room_details(self):\n",
    "        return {\n",
    "            'room_number': self.__room_number,\n",
    "            'room_type': self.room_type,\n",
    "            'rate': self.rate,\n",
    "            'availability': self.__availability\n",
    "        }\n",
    "\n",
    "class SuiteRoom(Room):\n",
    "    def __init__(self, room_number, rate, has_lounge):\n",
    "        super().__init__(room_number, \"Suite\", rate)\n",
    "        self.has_lounge = has_lounge\n",
    "\n",
    "class StandardRoom(Room):\n",
    "    def __init__(self, room_number, rate):\n",
    "        super().__init__(room_number, \"Standard\", rate)\n",
    "\n",
    "# Testing the Hotel Management System\n",
    "if __name__ == \"__main__\":\n",
    "    # Create a SuiteRoom\n",
    "    suite = SuiteRoom(101, 250.0, has_lounge=True)\n",
    "    suite.book_room()\n",
    "    suite.check_in()\n",
    "    suite.check_out()\n",
    "    print(suite.get_room_details())\n",
    "\n",
    "    # Create a StandardRoom\n",
    "    standard = StandardRoom(102, 100.0)\n",
    "    standard.book_room()\n",
    "    standard.check_in()\n",
    "    print(standard.get_room_details())\n"
   ]
  },
  {
   "cell_type": "markdown",
   "id": "614e2237",
   "metadata": {},
   "source": [
    "8.Write a code for Fitness Club Management System using OOPS3\n",
    "& Create a Member class that has attributes such as name, age, membership type, and membership status\n",
    "(private)\u0014\n",
    "& Implement methods to register a new member, renew a membership, and cancel a membership\u0014\n",
    "& Use encapsulation to hide the member's unique identification number\u0014\n",
    "& Inherit from the Member class to create a FamilyMember class and an IndividualMember class, each with\n",
    "their own specific attributes and methods."
   ]
  },
  {
   "cell_type": "code",
   "execution_count": 10,
   "id": "d6834ff5",
   "metadata": {},
   "outputs": [
    {
     "name": "stdout",
     "output_type": "stream",
     "text": [
      "Member John Doe has been registered with ID 1001.\n",
      "{'name': 'John Doe', 'age': 45, 'membership_type': 'Family', 'membership_status': 'Active', 'member_id': 1001}\n",
      "Member Jane Smith has been registered with ID 1002.\n",
      "Membership for Jane Smith has been renewed.\n",
      "{'name': 'Jane Smith', 'age': 28, 'membership_type': 'Individual', 'membership_status': 'Active', 'member_id': 1002}\n"
     ]
    }
   ],
   "source": [
    "class Member:\n",
    "    def __init__(self, name, age, membership_type, member_id, membership_status=\"Active\"):\n",
    "        self.name = name\n",
    "        self.age = age\n",
    "        self.membership_type = membership_type\n",
    "        self.__member_id = member_id\n",
    "        self.__membership_status = membership_status\n",
    "\n",
    "    def register_member(self):\n",
    "        print(f\"Member {self.name} has been registered with ID {self.__member_id}.\")\n",
    "\n",
    "    def renew_membership(self):\n",
    "        self.__membership_status = \"Active\"\n",
    "        print(f\"Membership for {self.name} has been renewed.\")\n",
    "\n",
    "    def cancel_membership(self):\n",
    "        self.__membership_status = \"Cancelled\"\n",
    "        print(f\"Membership for {self.name} has been cancelled.\")\n",
    "\n",
    "    def get_member_details(self):\n",
    "        return {\n",
    "            'name': self.name,\n",
    "            'age': self.age,\n",
    "            'membership_type': self.membership_type,\n",
    "            'membership_status': self.__membership_status,\n",
    "            'member_id': self.__member_id\n",
    "        }\n",
    "\n",
    "class FamilyMember(Member):\n",
    "    def __init__(self, name, age, membership_type, member_id, family_members):\n",
    "        super().__init__(name, age, membership_type, member_id)\n",
    "        self.family_members = family_members\n",
    "\n",
    "class IndividualMember(Member):\n",
    "    def __init__(self, name, age, membership_type, member_id):\n",
    "        super().__init__(name, age, membership_type, member_id)\n",
    "\n",
    "# Testing the Fitness Club Management System\n",
    "if __name__ == \"__main__\":\n",
    "    # Create a FamilyMember\n",
    "    family_member = FamilyMember(\"John Doe\", 45, \"Family\", 1001, family_members=4)\n",
    "    family_member.register_member()\n",
    "    print(family_member.get_member_details())\n",
    "\n",
    "    # Create an IndividualMember\n",
    "    individual_member = IndividualMember(\"Jane Smith\", 28, \"Individual\", 1002)\n",
    "    individual_member.register_member()\n",
    "    individual_member.renew_membership()\n",
    "    print(individual_member.get_member_details())\n"
   ]
  },
  {
   "cell_type": "markdown",
   "id": "a73e0f7e",
   "metadata": {},
   "source": [
    "9.Write a code for Event Management System using OOPS3\n",
    "& Create an Event class that has attributes such as name, date, time, location, and list of attendees (private)\u0014\n",
    "& Implement methods to create a new event, add or remove attendees, and get the total number of\n",
    "attendees\u0014\n",
    "& Use encapsulation to hide the event's unique identification number\u0014\n",
    "& Inherit from the Event class to create a PrivateEvent class and a PublicEvent class, each with their own\n",
    "specific attributes and methods."
   ]
  },
  {
   "cell_type": "code",
   "execution_count": 11,
   "id": "bccbae71",
   "metadata": {},
   "outputs": [
    {
     "name": "stdout",
     "output_type": "stream",
     "text": [
      "Alice has been added to the event Private Party.\n",
      "Bob has been added to the event Private Party.\n",
      "{'name': 'Private Party', 'date': '2024-08-15', 'time': '19:00', 'location': 'Private Hall', 'event_id': 2001, 'total_attendees': 2}\n",
      "Charlie has been added to the event Concert.\n",
      "Diana has been added to the event Concert.\n",
      "{'name': 'Concert', 'date': '2024-08-20', 'time': '18:00', 'location': 'Stadium', 'event_id': 2002, 'total_attendees': 2}\n"
     ]
    }
   ],
   "source": [
    "class Event:\n",
    "    def __init__(self, name, date, time, location, event_id):\n",
    "        self.name = name\n",
    "        self.date = date\n",
    "        self.time = time\n",
    "        self.location = location\n",
    "        self.__event_id = event_id\n",
    "        self.__attendees = []\n",
    "\n",
    "    def add_attendee(self, attendee):\n",
    "        self.__attendees.append(attendee)\n",
    "        print(f\"{attendee} has been added to the event {self.name}.\")\n",
    "\n",
    "    def remove_attendee(self, attendee):\n",
    "        if attendee in self.__attendees:\n",
    "            self.__attendees.remove(attendee)\n",
    "            print(f\"{attendee} has been removed from the event {self.name}.\")\n",
    "        else:\n",
    "            print(f\"{attendee} is not attending the event {self.name}.\")\n",
    "\n",
    "    def get_total_attendees(self):\n",
    "        return len(self.__attendees)\n",
    "\n",
    "    def get_event_details(self):\n",
    "        return {\n",
    "            'name': self.name,\n",
    "            'date': self.date,\n",
    "            'time': self.time,\n",
    "            'location': self.location,\n",
    "            'event_id': self.__event_id,\n",
    "            'total_attendees': self.get_total_attendees()\n",
    "        }\n",
    "\n",
    "class PrivateEvent(Event):\n",
    "    def __init__(self, name, date, time, location, event_id, invitation_only):\n",
    "        super().__init__(name, date, time, location, event_id)\n",
    "        self.invitation_only = invitation_only\n",
    "\n",
    "class PublicEvent(Event):\n",
    "    def __init__(self, name, date, time, location, event_id, max_capacity):\n",
    "        super().__init__(name, date, time, location, event_id)\n",
    "        self.max_capacity = max_capacity\n",
    "\n",
    "# Testing the Event Management System\n",
    "if __name__ == \"__main__\":\n",
    "    # Create a PrivateEvent\n",
    "    private_event = PrivateEvent(\"Private Party\", \"2024-08-15\", \"19:00\", \"Private Hall\", 2001, invitation_only=True)\n",
    "    private_event.add_attendee(\"Alice\")\n",
    "    private_event.add_attendee(\"Bob\")\n",
    "    print(private_event.get_event_details())\n",
    "\n",
    "    # Create a PublicEvent\n",
    "    public_event = PublicEvent(\"Concert\", \"2024-08-20\", \"18:00\", \"Stadium\", 2002, max_capacity=500)\n",
    "    public_event.add_attendee(\"Charlie\")\n",
    "    public_event.add_attendee(\"Diana\")\n",
    "    print(public_event.get_event_details())\n"
   ]
  },
  {
   "cell_type": "markdown",
   "id": "2c55968d",
   "metadata": {},
   "source": [
    "10.Write a code for Airline Reservation System using OOPS3\n",
    "& Create a Flight class that has attributes such as flight number, departure and arrival airports, departure and\n",
    "arrival times, and available seats (private)\u0014\n",
    "& Implement methods to book a seat, cancel a reservation, and get the remaining available seats\u0014\n",
    "& Use encapsulation to hide the flight's unique identification number\u0014\n",
    "& Inherit from the Flight class to create a DomesticFlight class and an InternationalFlight class, each with their\n",
    "own specific attributes and methods."
   ]
  },
  {
   "cell_type": "code",
   "execution_count": 12,
   "id": "0317ff84",
   "metadata": {},
   "outputs": [
    {
     "name": "stdout",
     "output_type": "stream",
     "text": [
      "{'flight_number': 'DL123', 'departure_airport': 'JFK', 'arrival_airport': 'LAX', 'departure_time': '2024-08-15 10:00', 'arrival_time': '2024-08-15 13:00', 'available_seats': 150, 'domestic_code': 'US-DL123'}\n",
      "2 seat(s) booked on flight DL123.\n",
      "Remaining seats: 148\n",
      "{'flight_number': 'AF456', 'departure_airport': 'CDG', 'arrival_airport': 'JFK', 'departure_time': '2024-08-20 16:00', 'arrival_time': '2024-08-20 19:00', 'available_seats': 200, 'country_of_origin': 'France', 'country_of_destination': 'USA'}\n",
      "3 seat(s) booked on flight AF456.\n",
      "Remaining seats: 197\n"
     ]
    }
   ],
   "source": [
    "class Flight:\n",
    "    def __init__(self, flight_number, departure_airport, arrival_airport, departure_time, arrival_time, available_seats, flight_id):\n",
    "        self.flight_number = flight_number\n",
    "        self.departure_airport = departure_airport\n",
    "        self.arrival_airport = arrival_airport\n",
    "        self.departure_time = departure_time\n",
    "        self.arrival_time = arrival_time\n",
    "        self.__available_seats = available_seats\n",
    "        self.__flight_id = flight_id\n",
    "\n",
    "    def book_seat(self, seats=1):\n",
    "        if seats <= self.__available_seats:\n",
    "            self.__available_seats -= seats\n",
    "            print(f\"{seats} seat(s) booked on flight {self.flight_number}.\")\n",
    "        else:\n",
    "            print(\"Not enough seats available.\")\n",
    "\n",
    "    def cancel_reservation(self, seats=1):\n",
    "        self.__available_seats += seats\n",
    "        print(f\"{seats} seat(s) cancelled on flight {self.flight_number}.\")\n",
    "\n",
    "    def get_remaining_seats(self):\n",
    "        return self.__available_seats\n",
    "\n",
    "    def get_flight_details(self):\n",
    "        return {\n",
    "            'flight_number': self.flight_number,\n",
    "            'departure_airport': self.departure_airport,\n",
    "            'arrival_airport': self.arrival_airport,\n",
    "            'departure_time': self.departure_time,\n",
    "            'arrival_time': self.arrival_time,\n",
    "            'available_seats': self.__available_seats\n",
    "        }\n",
    "\n",
    "class DomesticFlight(Flight):\n",
    "    def __init__(self, flight_number, departure_airport, arrival_airport, departure_time, arrival_time, available_seats, flight_id, domestic_code):\n",
    "        super().__init__(flight_number, departure_airport, arrival_airport, departure_time, arrival_time, available_seats, flight_id)\n",
    "        self.domestic_code = domestic_code\n",
    "\n",
    "    def get_domestic_details(self):\n",
    "        return {\n",
    "            **self.get_flight_details(),\n",
    "            'domestic_code': self.domestic_code\n",
    "        }\n",
    "\n",
    "class InternationalFlight(Flight):\n",
    "    def __init__(self, flight_number, departure_airport, arrival_airport, departure_time, arrival_time, available_seats, flight_id, country_of_origin, country_of_destination):\n",
    "        super().__init__(flight_number, departure_airport, arrival_airport, departure_time, arrival_time, available_seats, flight_id)\n",
    "        self.country_of_origin = country_of_origin\n",
    "        self.country_of_destination = country_of_destination\n",
    "\n",
    "    def get_international_details(self):\n",
    "        return {\n",
    "            **self.get_flight_details(),\n",
    "            'country_of_origin': self.country_of_origin,\n",
    "            'country_of_destination': self.country_of_destination\n",
    "        }\n",
    "\n",
    "# Testing the Airline Reservation System\n",
    "if __name__ == \"__main__\":\n",
    "    # Create a DomesticFlight\n",
    "    domestic_flight = DomesticFlight(\"DL123\", \"JFK\", \"LAX\", \"2024-08-15 10:00\", \"2024-08-15 13:00\", 150, \"D001\", domestic_code=\"US-DL123\")\n",
    "    print(domestic_flight.get_domestic_details())\n",
    "    domestic_flight.book_seat(2)\n",
    "    print(f\"Remaining seats: {domestic_flight.get_remaining_seats()}\")\n",
    "\n",
    "    # Create an InternationalFlight\n",
    "    international_flight = InternationalFlight(\"AF456\", \"CDG\", \"JFK\", \"2024-08-20 16:00\", \"2024-08-20 19:00\", 200, \"I001\", country_of_origin=\"France\", country_of_destination=\"USA\")\n",
    "    print(international_flight.get_international_details())\n",
    "    international_flight.book_seat(3)\n",
    "    print(f\"Remaining seats: {international_flight.get_remaining_seats()}\")\n"
   ]
  },
  {
   "cell_type": "markdown",
   "id": "30f64607",
   "metadata": {},
   "source": [
    "11. Define a Python module named constants.py containing constants like pi and the speed of light."
   ]
  },
  {
   "cell_type": "code",
   "execution_count": 14,
   "id": "9823336e",
   "metadata": {},
   "outputs": [],
   "source": [
    "# constants.py\n",
    "PI = 3.141592653589793\n",
    "SPEED_OF_LIGHT = 299792458  # in meters per second\n",
    "GRAVITATIONAL_CONSTANT = 6.67430e-11  # in m^3 kg^-1 s^-2\n",
    "PLANCK_CONSTANT = 6.62607015e-34  # in Js\n"
   ]
  },
  {
   "cell_type": "markdown",
   "id": "7f86b431",
   "metadata": {},
   "source": [
    "12. Write a Python module named calculator.py containing functions for addition, subtraction,\n",
    "multiplication, and division."
   ]
  },
  {
   "cell_type": "code",
   "execution_count": 17,
   "id": "f11034d5",
   "metadata": {},
   "outputs": [],
   "source": [
    "# calculator.py\n",
    "\n",
    "def add(a, b):\n",
    "    \"\"\"Return the sum of a and b.\"\"\"\n",
    "    return a + b\n",
    "\n",
    "def subtract(a, b):\n",
    "    \"\"\"Return the difference of a and b.\"\"\"\n",
    "    return a - b\n",
    "\n",
    "def multiply(a, b):\n",
    "    \"\"\"Return the product of a and b.\"\"\"\n",
    "    return a * b\n",
    "\n",
    "def divide(a, b):\n",
    "    \"\"\"Return the division of a by b. Raise an error if b is zero.\"\"\"\n",
    "    if b == 0:\n",
    "        raise ValueError(\"Cannot divide by zero!\")\n",
    "    return a / b\n",
    "import calculator\n",
    "\n",
    "print(f\"Addition: {calculator.add(10, 5)}\")\n",
    "print(f\"Subtraction: {calculator.subtract(10, 5)}\")\n",
    "print(f\"Multiplication: {calculator.multiply(10, 5)}\")\n",
    "print(f\"Division: {calculator.divide(10, 5)}\")"
   ]
  },
  {
   "cell_type": "markdown",
   "id": "509a14d2",
   "metadata": {},
   "source": [
    "13. Implement a Python package structure for a project named ecommerce, containing modules for product\n",
    "management and order processing."
   ]
  },
  {
   "cell_type": "code",
   "execution_count": 19,
   "id": "80a4af01",
   "metadata": {},
   "outputs": [],
   "source": [
    "# product_management.py\n",
    "\n",
    "class Product:\n",
    "    def __init__(self, product_id, name, price, quantity):\n",
    "        self.product_id = product_id\n",
    "        self.name = name\n",
    "        self.price = price\n",
    "        self.quantity = quantity\n",
    "\n",
    "    def update_quantity(self, new_quantity):\n",
    "        self.quantity = new_quantity\n",
    "\n",
    "    def update_price(self, new_price):\n",
    "        self.price = new_price\n",
    "\n",
    "    def get_product_info(self):\n",
    "        return {\n",
    "            \"product_id\": self.product_id,\n",
    "            \"name\": self.name,\n",
    "            \"price\": self.price,\n",
    "            \"quantity\": self.quantity\n",
    "        }\n"
   ]
  },
  {
   "cell_type": "code",
   "execution_count": 20,
   "id": "36a82a10",
   "metadata": {},
   "outputs": [],
   "source": [
    "# order_processing.py\n",
    "\n",
    "class Order:\n",
    "    def __init__(self, order_id, products):\n",
    "        self.order_id = order_id\n",
    "        self.products = products  # List of Product objects\n",
    "\n",
    "    def calculate_total(self):\n",
    "        return sum([product.price * product.quantity for product in self.products])\n",
    "\n",
    "    def add_product(self, product):\n",
    "        self.products.append(product)\n",
    "\n",
    "    def remove_product(self, product_id):\n",
    "        self.products = [product for product in self.products if product.product_id != product_id]\n",
    "\n",
    "    def get_order_details(self):\n",
    "        return {\n",
    "            \"order_id\": self.order_id,\n",
    "            \"products\": [product.get_product_info() for product in self.products],\n",
    "            \"total\": self.calculate_total()\n",
    "        }\n"
   ]
  },
  {
   "cell_type": "markdown",
   "id": "4ea66dbf",
   "metadata": {},
   "source": [
    "14. Implement a Python module named string_utils.py containing functions for string manipulation, such as reversing and capitalizing strings."
   ]
  },
  {
   "cell_type": "code",
   "execution_count": 21,
   "id": "2836e14f",
   "metadata": {},
   "outputs": [],
   "source": [
    "# string_utils.py\n",
    "\n",
    "def reverse_string(s):\n",
    "    return s[::-1]\n",
    "\n",
    "def capitalize_string(s):\n",
    "    return s.capitalize()\n",
    "\n",
    "def to_uppercase(s):\n",
    "    return s.upper()\n",
    "\n",
    "def to_lowercase(s):\n",
    "    return s.lower()\n",
    "\n",
    "\n",
    "import string_utils\n",
    "\n",
    "print(f\"Reversed: {string_utils.reverse_string('hello')}\")\n",
    "print(f\"Capitalized: {string_utils.capitalize_string('hello')}\")\n",
    "print(f\"Uppercase: {string_utils.to_uppercase('hello')}\")\n",
    "print(f\"Lowercase: {string_utils.to_lowercase('HELLO')}\")"
   ]
  },
  {
   "cell_type": "markdown",
   "id": "601e89d1",
   "metadata": {},
   "source": [
    "15. Write a Python module named file_operations.py with functions for reading, writing, and appending data to a file."
   ]
  },
  {
   "cell_type": "code",
   "execution_count": 22,
   "id": "f95789ed",
   "metadata": {},
   "outputs": [],
   "source": [
    "# file_operations.py\n",
    "\n",
    "def read_file(file_path):\n",
    "    \"\"\"Read the contents of a file and return them as a string.\"\"\"\n",
    "    try:\n",
    "        with open(file_path, 'r') as file:\n",
    "            return file.read()\n",
    "    except FileNotFoundError:\n",
    "        return \"File not found.\"\n",
    "\n",
    "def write_file(file_path, data):\n",
    "    \"\"\"Write data to a file, overwriting any existing content.\"\"\"\n",
    "    with open(file_path, 'w') as file:\n",
    "        file.write(data)\n",
    "    print(f\"Data written to {file_path}.\")\n",
    "\n",
    "def append_file(file_path, data):\n",
    "    \"\"\"Append data to a file.\"\"\"\n",
    "    with open(file_path, 'a') as file:\n",
    "        file.write(data)\n",
    "    print(f\"Data appended to {file_path}.\")"
   ]
  },
  {
   "cell_type": "code",
   "execution_count": 23,
   "id": "072aed26",
   "metadata": {},
   "outputs": [
    {
     "ename": "ModuleNotFoundError",
     "evalue": "No module named 'file_operations'",
     "output_type": "error",
     "traceback": [
      "\u001b[1;31m---------------------------------------------------------------------------\u001b[0m",
      "\u001b[1;31mModuleNotFoundError\u001b[0m                       Traceback (most recent call last)",
      "Cell \u001b[1;32mIn[23], line 1\u001b[0m\n\u001b[1;32m----> 1\u001b[0m \u001b[38;5;28;01mimport\u001b[39;00m \u001b[38;5;21;01mfile_operations\u001b[39;00m\n\u001b[0;32m      3\u001b[0m \u001b[38;5;66;03m# Writing data to a file\u001b[39;00m\n\u001b[0;32m      4\u001b[0m file_operations\u001b[38;5;241m.\u001b[39mwrite_file(\u001b[38;5;124m'\u001b[39m\u001b[38;5;124mexample.txt\u001b[39m\u001b[38;5;124m'\u001b[39m, \u001b[38;5;124m'\u001b[39m\u001b[38;5;124mHello, World!\u001b[39m\u001b[38;5;124m'\u001b[39m)\n",
      "\u001b[1;31mModuleNotFoundError\u001b[0m: No module named 'file_operations'"
     ]
    }
   ],
   "source": [
    "\n",
    "import file_operations\n",
    "\n",
    "# Writing data to a file\n",
    "file_operations.write_file('example.txt', 'Hello, World!')\n",
    "\n",
    "# Reading data from a file\n",
    "content = file_operations.read_file('example.txt')\n",
    "print(f\"File content: {content}\")\n",
    "\n",
    "# Appending data to a file\n",
    "file_operations.append_file('example.txt', '\\nWelcome to the file operations module.')"
   ]
  },
  {
   "cell_type": "markdown",
   "id": "147be6b0",
   "metadata": {},
   "source": [
    "16. Write a Python program to create a text file named \"employees.txt\" and write the details of employees,\n",
    "including their name, age, and salary, into the file."
   ]
  },
  {
   "cell_type": "code",
   "execution_count": 25,
   "id": "6539eebf",
   "metadata": {},
   "outputs": [
    {
     "name": "stdout",
     "output_type": "stream",
     "text": [
      "Employee details have been written to employees.txt\n"
     ]
    }
   ],
   "source": [
    "# Define the employee details\n",
    "employees = [\n",
    "    {\"name\": \"John Doe\", \"age\": 30, \"salary\": 50000},\n",
    "    {\"name\": \"Jane Smith\", \"age\": 25, \"salary\": 60000},\n",
    "    {\"name\": \"Emily Davis\", \"age\": 35, \"salary\": 70000}\n",
    "]\n",
    "\n",
    "# Create and write to the file\n",
    "with open(\"employees.txt\", \"w\") as file:\n",
    "    for employee in employees:\n",
    "        file.write(f\"Name: {employee['name']}, Age: {employee['age']}, Salary: {employee['salary']}\\n\")\n",
    "\n",
    "print(\"Employee details have been written to employees.txt\")"
   ]
  },
  {
   "cell_type": "markdown",
   "id": "d2683d40",
   "metadata": {},
   "source": [
    "17. Develop a Python script that opens an existing text file named \"inventory.txt\" in read mode and displays the contents of the file line by line"
   ]
  },
  {
   "cell_type": "code",
   "execution_count": null,
   "id": "c8e41faf",
   "metadata": {},
   "outputs": [],
   "source": [
    "# Open the file in read mode\n",
    "with open(\"inventory.txt\", \"r\") as file:\n",
    "    # Read and display each line\n",
    "    for line in file:\n",
    "        print(line.strip())"
   ]
  },
  {
   "cell_type": "markdown",
   "id": "df11b08a",
   "metadata": {},
   "source": [
    "18. Create a Python script that reads a text file named \"expenses.txt\" and calculates the total amount spent\n",
    "on various expenses listed in the file."
   ]
  },
  {
   "cell_type": "markdown",
   "id": "6418844d",
   "metadata": {},
   "source": [
    "\n",
    "with open(\"expenses.txt\", \"r\") as file:\n",
    "    total_expenses = 0\n",
    "    # Read each line in the file\n",
    "    for line in file:\n",
    "        # Split the line to get the expense amount\n",
    "        parts = line.strip().split()\n",
    "        if parts:\n",
    "            # Assuming the amount is the last part of the line\n",
    "            amount = float(parts[-1])\n",
    "            total_expenses += amount\n",
    "\n",
    "print(f\"Total amount spent: {total_expenses}\")"
   ]
  },
  {
   "cell_type": "markdown",
   "id": "ce06b4dc",
   "metadata": {},
   "source": [
    "19. Create a Python program that reads a text file named \"paragraph.txt\" and counts the occurrences of each word in the paragraph, displaying the results in alphabetical order."
   ]
  },
  {
   "cell_type": "code",
   "execution_count": null,
   "id": "e9fea0e2",
   "metadata": {},
   "outputs": [],
   "source": [
    "# 19. Count Word Occurrences in a Paragraph\n",
    "\n",
    "from collections import Counter\n",
    "import string\n",
    "\n",
    "def count_word_occurrences(file_name):\n",
    "    try:\n",
    "        with open(file_name, 'r') as file:\n",
    "            text = file.read().lower()\n",
    "            text = text.translate(str.maketrans(\"\", \"\", string.punctuation))\n",
    "            words = text.split()\n",
    "            word_count = Counter(words)\n",
    "            for word in sorted(word_count):\n",
    "                print(f\"{word}: {word_count[word]}\")\n",
    "    except FileNotFoundError:\n",
    "        print(f\"File {file_name} not found.\")\n",
    "\n",
    "\n",
    "count_word_occurrences(\"paragraph.txt\")"
   ]
  },
  {
   "cell_type": "markdown",
   "id": "c6620af7",
   "metadata": {},
   "source": [
    "20. What do you mean by Measure of Central Tendency and Measures of Dispersion .How it can be\n",
    "calculated."
   ]
  },
  {
   "cell_type": "markdown",
   "id": "9fae9ff9",
   "metadata": {},
   "source": [
    "ANS}Measure of Central Tendency refers to statistical measures that describe the center or typical value in a dataset. The most common measures of central tendency are:\n",
    "Mean: The average of all data points.\n",
    "Median: The middle value when data points are arranged in order.\n",
    "Mode: The value that appears most frequently in the dataset.\n",
    "\n",
    "Measures of Dispersion describe the spread or variability of data points around the central tendency. Common measures of dispersion include:\n",
    "Range: The difference between the maximum and minimum values.\n",
    "Variance: The average of the squared differences from the mean.\n",
    "Standard Deviation: The square root of the variance, indicating the average distance of data points from the mean.\n",
    "Interquartile Range (IQR): The difference between the 75th percentile (Q3) and the 25th percentile (Q1), representing the spread of the middle 50% of data."
   ]
  },
  {
   "cell_type": "code",
   "execution_count": 31,
   "id": "3b8e5f32",
   "metadata": {},
   "outputs": [
    {
     "name": "stdout",
     "output_type": "stream",
     "text": [
      "Mean: 10.0\n",
      "Median: 9.5\n",
      "Mode: 5\n",
      "Range: 10\n",
      "Variance: 10.5\n",
      "Standard Deviation: 3.24037034920393\n",
      "IQR: 4.75\n"
     ]
    }
   ],
   "source": [
    "# example:\n",
    "import numpy as np\n",
    "\n",
    "# Sample data\n",
    "data = [5, 7, 8, 9, 10, 12, 14, 15]\n",
    "\n",
    "# Measure of Central Tendency\n",
    "mean = np.mean(data)\n",
    "median = np.median(data)\n",
    "mode = max(set(data), key=data.count)  # Simple mode calculation for this example\n",
    "\n",
    "# Measures of Dispersion\n",
    "range_value = np.ptp(data)\n",
    "variance = np.var(data)\n",
    "std_dev = np.std(data)\n",
    "q1, q3 = np.percentile(data, [25, 75])\n",
    "iqr = q3 - q1\n",
    "\n",
    "print(f\"Mean: {mean}\")\n",
    "print(f\"Median: {median}\")\n",
    "print(f\"Mode: {mode}\")\n",
    "print(f\"Range: {range_value}\")\n",
    "print(f\"Variance: {variance}\")\n",
    "print(f\"Standard Deviation: {std_dev}\")\n",
    "print(f\"IQR: {iqr}\")\n"
   ]
  },
  {
   "cell_type": "markdown",
   "id": "6b8f7ae8",
   "metadata": {},
   "source": [
    "21. What do you mean by skewness.Explain its types.Use graph to show."
   ]
  },
  {
   "cell_type": "markdown",
   "id": "3c6324c8",
   "metadata": {},
   "source": [
    "**Skewness** measures how much a data distribution leans to one side. Here are its main types:\n",
    "\n",
    "1. **Symmetrical (Zero Skewness)**: Data is evenly spread around the mean. The left and right sides look the same (e.g., normal distribution).\n",
    "\n",
    "2. **Positive Skewness (Right-Skewed)**: Data has a longer tail on the right. Most values are on the left, with a few larger values pulling the mean to the right.\n",
    "\n",
    "3. **Negative Skewness (Left-Skewed)**: Data has a longer tail on the left. Most values are on the right, with a few smaller values pulling the mean to the left.\n",
    "\n",
    "Here's a simple representation using ASCII:\n",
    "\n",
    "```\n",
    "Symmetrical:   |-----|-----| (Even)\n",
    "Right-Skewed:  |-----|--------- (Tail to the right)\n",
    "Left-Skewed:   ---------|-----| (Tail to the left)\n",
    "```"
   ]
  },
  {
   "cell_type": "markdown",
   "id": "8bfe71bb",
   "metadata": {},
   "source": [
    "22. Explain PROBABILITY MASS FUNCTION (PMF) and PROBABILITY DENSITY FUNCTION (PDF). and what is the difference between them?"
   ]
  },
  {
   "cell_type": "markdown",
   "id": "86f8ca44",
   "metadata": {},
   "source": [
    "### Probability Mass Function (PMF)\n",
    "- **Used for**: Discrete random variables (e.g., number of dice rolls).\n",
    "- **Gives**: Probability of a specific value occurring.\n",
    "- **Example**: Probability of rolling a 3 on a fair six-sided die: \\( P(X=3) = \\frac{1}{6} \\).\n",
    "\n",
    "### Probability Density Function (PDF)\n",
    "- **Used for**: Continuous random variables (e.g., height, weight).\n",
    "- **Gives**: Probability density, not the exact probability of one value. To find the probability, calculate the area under the curve for a range of values.\n",
    "- **Example**: Probability of a person's height being between 5.5 and 6 feet.\n",
    "\n",
    "### Key Difference\n",
    "- **PMF**: For discrete variables; gives exact probability.\n",
    "- **PDF**: For continuous variables; gives probability density over a range.\n",
    "\n"
   ]
  },
  {
   "cell_type": "markdown",
   "id": "d25721a5",
   "metadata": {},
   "source": [
    "23. What is correlation. Explain its type in details.what are the  methods of determining correlation"
   ]
  },
  {
   "cell_type": "markdown",
   "id": "4c6304d9",
   "metadata": {},
   "source": [
    "Correlation measures the strength and direction of the relationship between two variables. It tells us how closely two variables move together.\n",
    "Types of Correlation:\n",
    "\n",
    "    Positive Correlation: When one variable increases, the other variable also increases. Example: Height and weight.\n",
    "\n",
    "    Negative Correlation: When one variable increases, the other variable decreases. Example: The number of absences from class and exam scores.\n",
    "\n",
    "    No Correlation: No consistent pattern between the two variables. Example: Shoe size and intelligence.\n",
    "\n",
    "Methods of Determining Correlation:\n",
    "\n",
    "    Scatter Plot: A graphical representation to visualize the relationship.\n",
    "    Karl Pearson's Coefficient of Correlation (Pearson's r): Measures linear relationship; ranges from -1 to +1.\n",
    "    Spearman's Rank Correlation: Used for ordinal data or non-linear relationships."
   ]
  },
  {
   "cell_type": "markdown",
   "id": "301b6360",
   "metadata": {},
   "source": [
    "24. Calculate Coefficient of Correlation Using Karl Pearson’s Method"
   ]
  },
  {
   "cell_type": "code",
   "execution_count": 83,
   "id": "1a9e4bc6",
   "metadata": {},
   "outputs": [
    {
     "name": "stdout",
     "output_type": "stream",
     "text": [
      "Correlation Coefficient: 0.9808088067239751\n"
     ]
    }
   ],
   "source": [
    "import math\n",
    "\n",
    "# Marks obtained by students\n",
    "accountancy_marks = [85, 90, 78, 92, 88, 76, 85, 89, 84, 91]\n",
    "statistics_marks = [78, 88, 74, 90, 84, 70, 80, 85, 79, 87]\n",
    "\n",
    "# Calculate the means\n",
    "mean_x = sum(accountancy_marks) / len(accountancy_marks)\n",
    "mean_y = sum(statistics_marks) / len(statistics_marks)\n",
    "\n",
    "# Calculate the deviations and their products\n",
    "deviation_products = [(x - mean_x) * (y - mean_y) for x, y in zip(accountancy_marks, statistics_marks)]\n",
    "squared_deviation_x = [(x - mean_x) ** 2 for x in accountancy_marks]\n",
    "squared_deviation_y = [(y - mean_y) ** 2 for y in statistics_marks]\n",
    "\n",
    "# Sum the values\n",
    "sum_deviation_products = sum(deviation_products)\n",
    "sum_squared_deviation_x = sum(squared_deviation_x)\n",
    "sum_squared_deviation_y = sum(squared_deviation_y)\n",
    "\n",
    "# Calculate the correlation coefficient\n",
    "correlation_coefficient = sum_deviation_products / math.sqrt(sum_squared_deviation_x * sum_squared_deviation_y)\n",
    "\n",
    "print(f\"Correlation Coefficient: {correlation_coefficient}\")\n"
   ]
  },
  {
   "cell_type": "markdown",
   "id": "8066250e",
   "metadata": {},
   "source": [
    "25. Differences Between Correlation and Regression"
   ]
  },
  {
   "cell_type": "markdown",
   "id": "b8758abf",
   "metadata": {},
   "source": [
    "1.Purpose:\n",
    "\n",
    "    Correlation measures the strength and direction of the relationship between two variables.\n",
    "    Regression predicts the value of a dependent variable based on the value of an independent variable.\n",
    "\n",
    "Directionality:\n",
    "\n",
    "    Correlation does not imply causation or direction.\n",
    "    Regression assumes a cause-and-effect relationship.\n",
    "\n",
    "Representation:\n",
    "\n",
    "    Correlation uses a single number to represent the relationship.\n",
    "    Regression uses an equation (line of best fit).\n",
    "\n",
    "Usage:\n",
    "\n",
    "    Correlation is used to quantify the strength of a relationship.\n",
    "    Regression is used for prediction and forecasting."
   ]
  },
  {
   "cell_type": "markdown",
   "id": "70b71f7b",
   "metadata": {},
   "source": [
    "26. Find the Most Likely Price in Delhi corresponding to the price of Rs. 70 at Agra from the following data:Coefficient of correlation between the prices of the two places +0.8."
   ]
  },
  {
   "cell_type": "markdown",
   "id": "c382b2af",
   "metadata": {},
   "source": [
    "given Information:\n",
    "\n",
    "    Coefficient of correlation r=0.8r=0.8\n",
    "    Price at Agra (xx) = 70\n",
    "    Let's assume the mean prices (xˉxˉ and yˉyˉ​) and standard deviations (σxσx​ and σyσy​) are known or have a standard scale for direct use with correlation.\n",
    "\n",
    "Regression Formula\n",
    "\n",
    "The most likely price in Delhi (yy) can be estimated using a regression line formula when one variable is known:\n",
    "y−yˉ=r⋅σyσx⋅(x−xˉ)\n",
    "y−yˉ​=r⋅σx​σy​​⋅(x−xˉ)\n",
    "Simplified Approach:\n",
    "\n",
    "If we assume that the means and standard deviations of the prices are equal or close enough, the regression line can be simplified for a direct relationship. This can sometimes be given as:\n",
    "y=yˉ+r⋅(x−xˉ)\n",
    "y=yˉ​+r⋅(x−xˉ)\n",
    "\n",
    "Since the mean (yˉyˉ​) and mean (xˉxˉ) are not provided, the simplest assumption is that the means of both cities' prices are equal, and we can estimate using:\n",
    "y=r⋅x\n",
    "y=r⋅x\n",
    "Calculation:\n",
    "\n",
    "    r=0.8r=0.8\n",
    "    x=70x=70\n",
    "\n",
    "y=0.8⋅70=56\n",
    "y=0.8⋅70=56\n",
    "Most Likely Price at Delhi:\n",
    "\n",
    "The most likely price at Delhi, corresponding to a price of Rs. 70 at Agra, is Rs. 56.\n",
    "\n"
   ]
  },
  {
   "cell_type": "markdown",
   "id": "68ee20d4",
   "metadata": {},
   "source": [
    "28. What is  Normal Distribution? What are the four Assumptions of Normal Distribution? Explain in detail."
   ]
  },
  {
   "cell_type": "markdown",
   "id": "145c9d7c",
   "metadata": {},
   "source": [
    "### What is Normal Distribution?\n",
    "\n",
    "- A **Normal Distribution** is a bell-shaped, symmetric probability distribution.\n",
    "- The mean, median, and mode are all the same and located at the center.\n",
    "- It is defined by its mean (µ) and standard deviation (σ).\n",
    "\n",
    "### Four Assumptions of Normal Distribution\n",
    "\n",
    "1. **Symmetry**: The distribution is symmetric around the mean. Left and right sides are mirror images.\n",
    "2. **Unimodal**: It has a single peak, indicating one mode where most data points are concentrated.\n",
    "3. **Asymptotic**: The tails extend indefinitely without touching the horizontal axis, meaning extreme values are possible but rare.\n",
    "4. **Empirical Rule (68-95-99.7 Rule)**:\n",
    "   - 68% of data within ±1 standard deviation of the mean.\n",
    "   - 95% of data within ±2 standard deviations.\n",
    "   - 99.7% of data within ±3 standard deviations.\n",
    "\n",
    "These properties make the normal distribution foundational in statistics for analyzing data and drawing conclusions."
   ]
  },
  {
   "cell_type": "markdown",
   "id": "d0356944",
   "metadata": {},
   "source": [
    "29.Write all the characteristics or Properties of the Normal Distribution Curve"
   ]
  },
  {
   "cell_type": "markdown",
   "id": "ad4a15bf",
   "metadata": {},
   "source": [
    "\n",
    "\n",
    "The normal distribution, also known as the Gaussian distribution, has several key characteristics and properties:\n",
    "1. Symmetry\n",
    "\n",
    "    The normal distribution curve is perfectly symmetrical around its mean. This means the left side of the curve is a mirror image of the right side¹.\n",
    "\n",
    "2. Unimodal\n",
    "\n",
    "    The curve has a single peak, or mode, which occurs at the mean of the distribution. This is why it is called unimodal¹.\n",
    "\n",
    "3. Mean, Median, and Mode\n",
    "\n",
    "    In a normal distribution, the mean, median, and mode are all equal and located at the center of the distribution.\n",
    "\n",
    "4. Asymptotic\n",
    "\n",
    "    The tails of the normal distribution curve approach, but never touch, the horizontal axis. This means that the probability of extreme values never actually reaches zero.\n",
    "\n",
    "5. Bell-Shaped Curve\n",
    "\n",
    "    The shape of the normal distribution curve is bell-shaped, with most of the data points clustering around the mean and fewer data points appearing as you move away from the mean.\n",
    "\n",
    "6. Defined by Mean and Standard Deviation\n",
    "\n",
    "    The normal distribution is completely described by its mean (μ) and standard deviation (σ). The mean determines the location of the center of the graph, and the standard deviation determines the height and width of the graph.\n",
    "\n",
    "7. Area Under the Curve\n",
    "\n",
    "    The total area under the normal distribution curve is equal to 1. This represents the total probability of all possible outcomes.\n",
    "\n",
    "8. Empirical Rule (68-95-99.7 Rule)\n",
    "\n",
    "    Approximately 68% of the data falls within one standard deviation of the mean, 95% falls within two standard deviations, and 99.7% falls within three standard deviations.\n",
    "\n"
   ]
  },
  {
   "cell_type": "markdown",
   "id": "29497ef0",
   "metadata": {},
   "source": [
    "30.Which of the following options are  correct about Normal Distribution Curve.\n",
    "(a) Within a range 0.6745 of σ on both sides the middle 50% of the observations occur i,e. mean ±0.6745σ covers 50% area 25% on each side.\n",
    "(b) Mean ±1S.D. (i,e.µ ± 1σ) covers 68.268% area, 34.134 % area lies on either side of the mean.\n",
    "(c) Mean ±2S.D. (i,e. µ ± 2σ) covers 95.45% area, 47.725% area lies on either side of the mean.\n",
    "(d) Mean ±3 S.D. (i,e. µ ±3σ) covers 99.73% area, 49.856% area lies on the either side of the mean.\n",
    "(e) Only 0.27% area is outside the range µ ±3σ."
   ]
  },
  {
   "cell_type": "raw",
   "id": "cedcca02",
   "metadata": {},
   "source": [
    "options (a), (b), (c), (d), and (e) are correct based on the properties of the normal distribution."
   ]
  },
  {
   "cell_type": "code",
   "execution_count": null,
   "id": "2358928d",
   "metadata": {},
   "outputs": [],
   "source": []
  },
  {
   "cell_type": "markdown",
   "id": "0b65a4f7",
   "metadata": {},
   "source": [
    "Given:\n",
    "\n",
    "    Mean (μ) = 60\n",
    "    Standard Deviation (σ) = 10\n",
    "\n",
    "Z-Score Formula:\n",
    "Z=X−μ/σ\n"
   ]
  },
  {
   "cell_type": "code",
   "execution_count": null,
   "id": "e227adc0",
   "metadata": {},
   "outputs": [],
   "source": []
  }
 ],
 "metadata": {
  "kernelspec": {
   "display_name": "Python 3 (ipykernel)",
   "language": "python",
   "name": "python3"
  },
  "language_info": {
   "codemirror_mode": {
    "name": "ipython",
    "version": 3
   },
   "file_extension": ".py",
   "mimetype": "text/x-python",
   "name": "python",
   "nbconvert_exporter": "python",
   "pygments_lexer": "ipython3",
   "version": "3.10.9"
  }
 },
 "nbformat": 4,
 "nbformat_minor": 5
}
